{
 "cells": [
  {
   "cell_type": "code",
   "execution_count": 1,
   "metadata": {},
   "outputs": [],
   "source": [
    "import os\n",
    "import glob\n",
    "import re \n",
    "from xml.dom import minidom"
   ]
  },
  {
   "cell_type": "code",
   "execution_count": 2,
   "metadata": {},
   "outputs": [
    {
     "data": {
      "text/plain": [
       "0"
      ]
     },
     "execution_count": 2,
     "metadata": {},
     "output_type": "execute_result"
    }
   ],
   "source": [
    "os.system('tar -xvf  ./data/NLMCXR_reports.tgz -C ./data/')"
   ]
  },
  {
   "cell_type": "code",
   "execution_count": 39,
   "metadata": {},
   "outputs": [],
   "source": [
    "allFiles = glob.glob(f'./data/**/*.xml', recursive=True)"
   ]
  },
  {
   "cell_type": "code",
   "execution_count": 40,
   "metadata": {},
   "outputs": [
    {
     "data": {
      "text/plain": [
       "3955"
      ]
     },
     "execution_count": 40,
     "metadata": {},
     "output_type": "execute_result"
    }
   ],
   "source": [
    "len(allFiles)"
   ]
  },
  {
   "cell_type": "code",
   "execution_count": 50,
   "metadata": {},
   "outputs": [
    {
     "name": "stdout",
     "output_type": "stream",
     "text": [
      "./data/ecgen-radiology/881.xml\n",
      "{'fileNo': '881', 'COMPARISON': 'None available.', 'INDICATION': 'XXXX-year-old XXXX with dyspnea.', 'FINDINGS': 'The lungs are without focal air space opacity. There is no pneumothorax or large pleural effusion. The cardiomediastinal silhouette is normal in size and contour.', 'IMPRESSION': 'No acute cardiopulmonary abnormality.'}\n"
     ]
    }
   ],
   "source": [
    "def getfilename(xml_file):\n",
    "    x = re.search(\"[ \\w-]+?(?=\\.)\", xml_file)\n",
    "    return x.group()\n",
    "\n",
    "for xml_file in allFiles:\n",
    "    print(xml_file)\n",
    "    mydoc = minidom.parse(xml_file)\n",
    "    elements = mydoc.getElementsByTagName('AbstractText')\n",
    "    row = {}\n",
    "    row['fileNo'] = getfilename(xml_file)\n",
    "    for element in elements:\n",
    "        row[element.attributes['Label'].value] = element.firstChild.data\n",
    "    print(row)\n",
    "    break\n",
    "    "
   ]
  },
  {
   "cell_type": "code",
   "execution_count": null,
   "metadata": {},
   "outputs": [],
   "source": [
    "\n",
    "\n",
    "# parse an xml file by name\n",
    "\n",
    "\n",
    "items = mydoc.getElementsByTagName('item')\n",
    "\n",
    "# one specific item attribute\n",
    "print('Item #2 attribute:')\n",
    "print(items[1].attributes['name'].value)\n",
    "\n",
    "# all item attributes\n",
    "print('\\nAll attributes:')\n",
    "for elem in items:\n",
    "    print(elem.attributes['name'].value)\n",
    "\n",
    "# one specific item's data\n",
    "print('\\nItem #2 data:')\n",
    "print(items[1].firstChild.data)\n",
    "print(items[1].childNodes[0].data)\n",
    "\n",
    "# all items data\n",
    "print('\\nAll item data:')\n",
    "for elem in items:\n",
    "    print(elem.firstChild.data)"
   ]
  }
 ],
 "metadata": {
  "kernelspec": {
   "display_name": "Python 3",
   "language": "python",
   "name": "python3"
  },
  "language_info": {
   "codemirror_mode": {
    "name": "ipython",
    "version": 3
   },
   "file_extension": ".py",
   "mimetype": "text/x-python",
   "name": "python",
   "nbconvert_exporter": "python",
   "pygments_lexer": "ipython3",
   "version": "3.7.6"
  }
 },
 "nbformat": 4,
 "nbformat_minor": 4
}
