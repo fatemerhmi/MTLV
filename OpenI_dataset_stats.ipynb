{
 "cells": [
  {
   "cell_type": "code",
   "execution_count": 40,
   "metadata": {},
   "outputs": [],
   "source": [
    "import os\n",
    "import glob\n",
    "import re \n",
    "from xml.dom import minidom\n",
    "import pandas as pd\n",
    "from tqdm import tqdm\n",
    "import numpy as np\n",
    "import matplotlib.pyplot as plt\n",
    "from collections import Counter"
   ]
  },
  {
   "cell_type": "markdown",
   "metadata": {},
   "source": [
    "# read the data"
   ]
  },
  {
   "cell_type": "code",
   "execution_count": 2,
   "metadata": {},
   "outputs": [
    {
     "data": {
      "text/plain": [
       "512"
      ]
     },
     "execution_count": 2,
     "metadata": {},
     "output_type": "execute_result"
    }
   ],
   "source": [
    "os.system('tar -xvf  ./data/NLMCXR_reports.tgz -C ./data/')"
   ]
  },
  {
   "cell_type": "code",
   "execution_count": 3,
   "metadata": {},
   "outputs": [],
   "source": [
    "allFiles = glob.glob(f'./data/**/*.xml', recursive=True)"
   ]
  },
  {
   "cell_type": "code",
   "execution_count": 4,
   "metadata": {},
   "outputs": [
    {
     "data": {
      "text/plain": [
       "3955"
      ]
     },
     "execution_count": 4,
     "metadata": {},
     "output_type": "execute_result"
    }
   ],
   "source": [
    "len(allFiles)"
   ]
  },
  {
   "cell_type": "markdown",
   "metadata": {},
   "source": [
    "# Convert XML to csv"
   ]
  },
  {
   "cell_type": "code",
   "execution_count": 5,
   "metadata": {},
   "outputs": [
    {
     "name": "stderr",
     "output_type": "stream",
     "text": [
      "100%|██████████| 3955/3955 [00:35<00:00, 110.74it/s]\n"
     ]
    },
    {
     "data": {
      "text/html": [
       "<div>\n",
       "<style scoped>\n",
       "    .dataframe tbody tr th:only-of-type {\n",
       "        vertical-align: middle;\n",
       "    }\n",
       "\n",
       "    .dataframe tbody tr th {\n",
       "        vertical-align: top;\n",
       "    }\n",
       "\n",
       "    .dataframe thead th {\n",
       "        text-align: right;\n",
       "    }\n",
       "</style>\n",
       "<table border=\"1\" class=\"dataframe\">\n",
       "  <thead>\n",
       "    <tr style=\"text-align: right;\">\n",
       "      <th></th>\n",
       "      <th>fileNo</th>\n",
       "      <th>COMPARISON</th>\n",
       "      <th>INDICATION</th>\n",
       "      <th>FINDINGS</th>\n",
       "      <th>IMPRESSION</th>\n",
       "      <th>expert_labels</th>\n",
       "      <th>manual_labels</th>\n",
       "    </tr>\n",
       "  </thead>\n",
       "  <tbody>\n",
       "    <tr>\n",
       "      <th>0</th>\n",
       "      <td>881</td>\n",
       "      <td>None available.</td>\n",
       "      <td>XXXX-year-old XXXX with dyspnea.</td>\n",
       "      <td>The lungs are without focal air space opacity....</td>\n",
       "      <td>No acute cardiopulmonary abnormality.</td>\n",
       "      <td>[normal]</td>\n",
       "      <td>NaN</td>\n",
       "    </tr>\n",
       "    <tr>\n",
       "      <th>1</th>\n",
       "      <td>1734</td>\n",
       "      <td>NaN</td>\n",
       "      <td>Back pain</td>\n",
       "      <td>Heart size and mediastinal contour are normal....</td>\n",
       "      <td>No acute cardiopulmonary process.</td>\n",
       "      <td>[normal]</td>\n",
       "      <td>NaN</td>\n",
       "    </tr>\n",
       "    <tr>\n",
       "      <th>2</th>\n",
       "      <td>306</td>\n",
       "      <td>NaN</td>\n",
       "      <td>NaN</td>\n",
       "      <td>The lungs are clear. Heart size is normal. No ...</td>\n",
       "      <td>Clear lungs. No acute cardiopulmonary abnormal...</td>\n",
       "      <td>[normal]</td>\n",
       "      <td>NaN</td>\n",
       "    </tr>\n",
       "    <tr>\n",
       "      <th>3</th>\n",
       "      <td>3188</td>\n",
       "      <td>Chest x-XXXX, XXXX, XXXX.</td>\n",
       "      <td>This is a XXXX-year-old male patient with vomi...</td>\n",
       "      <td>NaN</td>\n",
       "      <td>The cardiac silhouette appears be at upper lim...</td>\n",
       "      <td>[Cardiac Shadow/enlarged/borderline, Mediastin...</td>\n",
       "      <td>NaN</td>\n",
       "    </tr>\n",
       "    <tr>\n",
       "      <th>4</th>\n",
       "      <td>1951</td>\n",
       "      <td>NaN</td>\n",
       "      <td>NaN</td>\n",
       "      <td>Cardiomediastinal silhouette is normal. Pulmon...</td>\n",
       "      <td>No acute cardiopulmonary disease.</td>\n",
       "      <td>[normal]</td>\n",
       "      <td>NaN</td>\n",
       "    </tr>\n",
       "  </tbody>\n",
       "</table>\n",
       "</div>"
      ],
      "text/plain": [
       "  fileNo                 COMPARISON  \\\n",
       "0    881            None available.   \n",
       "1   1734                        NaN   \n",
       "2    306                        NaN   \n",
       "3   3188  Chest x-XXXX, XXXX, XXXX.   \n",
       "4   1951                        NaN   \n",
       "\n",
       "                                          INDICATION  \\\n",
       "0                   XXXX-year-old XXXX with dyspnea.   \n",
       "1                                          Back pain   \n",
       "2                                                NaN   \n",
       "3  This is a XXXX-year-old male patient with vomi...   \n",
       "4                                                NaN   \n",
       "\n",
       "                                            FINDINGS  \\\n",
       "0  The lungs are without focal air space opacity....   \n",
       "1  Heart size and mediastinal contour are normal....   \n",
       "2  The lungs are clear. Heart size is normal. No ...   \n",
       "3                                                NaN   \n",
       "4  Cardiomediastinal silhouette is normal. Pulmon...   \n",
       "\n",
       "                                          IMPRESSION  \\\n",
       "0              No acute cardiopulmonary abnormality.   \n",
       "1                  No acute cardiopulmonary process.   \n",
       "2  Clear lungs. No acute cardiopulmonary abnormal...   \n",
       "3  The cardiac silhouette appears be at upper lim...   \n",
       "4                  No acute cardiopulmonary disease.   \n",
       "\n",
       "                                       expert_labels manual_labels  \n",
       "0                                           [normal]           NaN  \n",
       "1                                           [normal]           NaN  \n",
       "2                                           [normal]           NaN  \n",
       "3  [Cardiac Shadow/enlarged/borderline, Mediastin...           NaN  \n",
       "4                                           [normal]           NaN  "
      ]
     },
     "execution_count": 5,
     "metadata": {},
     "output_type": "execute_result"
    }
   ],
   "source": [
    "def getfilename(xml_file):\n",
    "    x = re.search(\"[ \\w-]+?(?=\\.)\", xml_file)\n",
    "    return x.group()\n",
    "\n",
    "def get_report(xml_file):\n",
    "    #get radiology report text\n",
    "    data = {}\n",
    "    mydoc = minidom.parse(xml_file)\n",
    "    elements = mydoc.getElementsByTagName('AbstractText')\n",
    "    for element in elements:\n",
    "        txt = np.nan\n",
    "        if element.firstChild != None:\n",
    "            if element.firstChild.data == \"None.\":\n",
    "                txt = np.nan\n",
    "            else:\n",
    "                txt = element.firstChild.data\n",
    "        data[element.attributes['Label'].value] = txt\n",
    "        \n",
    "    return data\n",
    "\n",
    "def get_labels(xml_file):\n",
    "    data = {}\n",
    "    mydoc = minidom.parse(xml_file)\n",
    "    elements = mydoc.getElementsByTagName('major')\n",
    "    txt = []\n",
    "    for element in elements:\n",
    "        if element.firstChild != None:\n",
    "            txt.append(element.firstChild.data)\n",
    "    if len(txt) == 0:\n",
    "        txt = np.nan\n",
    "    data['expert_labels'] = txt\n",
    "    \n",
    "    elements = mydoc.getElementsByTagName('automatic')\n",
    "    txt = []\n",
    "    for element in elements:\n",
    "        if element.firstChild != None:\n",
    "            txt.append(element.firstChild.data)\n",
    "    if len(txt) == 0:\n",
    "        txt = np.nan\n",
    "    data['manual_labels'] = txt\n",
    "    \n",
    "    return data\n",
    "\n",
    "def convert_xml2csv(allFiles):\n",
    "    columns = [\"fileNo\", \"COMPARISON\", \"INDICATION\", \"FINDINGS\", \"IMPRESSION\", \"expert_labels\", \"manual_labels\"]\n",
    "    xml_df = pd.DataFrame(columns = columns)\n",
    "    for xml_file in tqdm(allFiles):\n",
    "#         print(xml_file)\n",
    "        row = {}\n",
    "        row['fileNo'] = getfilename(xml_file)\n",
    "\n",
    "        reportDic = get_report(xml_file)\n",
    "        labelsDic = get_labels(xml_file)\n",
    "\n",
    "        row = {**row ,**reportDic, **labelsDic}\n",
    "        xml_df = xml_df.append(row,ignore_index=True)\n",
    "    return xml_df\n",
    "\n",
    "xml_df = convert_xml2csv(allFiles)\n",
    "xml_df.head()"
   ]
  },
  {
   "cell_type": "markdown",
   "metadata": {},
   "source": [
    "# Some stats\n"
   ]
  },
  {
   "cell_type": "code",
   "execution_count": 6,
   "metadata": {},
   "outputs": [
    {
     "name": "stdout",
     "output_type": "stream",
     "text": [
      "Total No. of reports:  3955\n"
     ]
    }
   ],
   "source": [
    "print(\"Total No. of reports: \", len(xml_df) )"
   ]
  },
  {
   "cell_type": "code",
   "execution_count": 7,
   "metadata": {},
   "outputs": [
    {
     "name": "stdout",
     "output_type": "stream",
     "text": [
      "<class 'pandas.core.frame.DataFrame'>\n",
      "RangeIndex: 3955 entries, 0 to 3954\n",
      "Data columns (total 7 columns):\n",
      " #   Column         Non-Null Count  Dtype \n",
      "---  ------         --------------  ----- \n",
      " 0   fileNo         3955 non-null   object\n",
      " 1   COMPARISON     2507 non-null   object\n",
      " 2   INDICATION     3865 non-null   object\n",
      " 3   FINDINGS       3425 non-null   object\n",
      " 4   IMPRESSION     3921 non-null   object\n",
      " 5   expert_labels  3955 non-null   object\n",
      " 6   manual_labels  2182 non-null   object\n",
      "dtypes: object(7)\n",
      "memory usage: 216.4+ KB\n"
     ]
    }
   ],
   "source": [
    "xml_df.info()"
   ]
  },
  {
   "cell_type": "code",
   "execution_count": 8,
   "metadata": {},
   "outputs": [
    {
     "data": {
      "text/plain": [
       "0                                                [normal]\n",
       "1                                                [normal]\n",
       "2                                                [normal]\n",
       "3       [Cardiac Shadow/enlarged/borderline, Mediastin...\n",
       "4                                                [normal]\n",
       "                              ...                        \n",
       "3950    [Pulmonary Congestion, Pulmonary Edema/interst...\n",
       "3951    [Opacity/lung/base/bilateral, Pulmonary Atelec...\n",
       "3952                                             [normal]\n",
       "3953    [Lung/hyperdistention, Pulmonary Emphysema, Pe...\n",
       "3954    [Aorta/tortuous/mild, Lung/hyperdistention, Op...\n",
       "Name: expert_labels, Length: 3955, dtype: object"
      ]
     },
     "execution_count": 8,
     "metadata": {},
     "output_type": "execute_result"
    }
   ],
   "source": [
    "xml_df['expert_labels']"
   ]
  },
  {
   "cell_type": "markdown",
   "metadata": {},
   "source": [
    "# Add a column for Noraml or not normal expert labels (NormalLabel)"
   ]
  },
  {
   "cell_type": "code",
   "execution_count": 9,
   "metadata": {},
   "outputs": [],
   "source": [
    "NaN = np.nan\n",
    "xml_df['NormalLabel'] = NaN"
   ]
  },
  {
   "cell_type": "code",
   "execution_count": 10,
   "metadata": {},
   "outputs": [
    {
     "data": {
      "text/html": [
       "<div>\n",
       "<style scoped>\n",
       "    .dataframe tbody tr th:only-of-type {\n",
       "        vertical-align: middle;\n",
       "    }\n",
       "\n",
       "    .dataframe tbody tr th {\n",
       "        vertical-align: top;\n",
       "    }\n",
       "\n",
       "    .dataframe thead th {\n",
       "        text-align: right;\n",
       "    }\n",
       "</style>\n",
       "<table border=\"1\" class=\"dataframe\">\n",
       "  <thead>\n",
       "    <tr style=\"text-align: right;\">\n",
       "      <th></th>\n",
       "      <th>fileNo</th>\n",
       "      <th>COMPARISON</th>\n",
       "      <th>INDICATION</th>\n",
       "      <th>FINDINGS</th>\n",
       "      <th>IMPRESSION</th>\n",
       "      <th>expert_labels</th>\n",
       "      <th>manual_labels</th>\n",
       "      <th>NormalLabel</th>\n",
       "    </tr>\n",
       "  </thead>\n",
       "  <tbody>\n",
       "    <tr>\n",
       "      <th>0</th>\n",
       "      <td>881</td>\n",
       "      <td>None available.</td>\n",
       "      <td>XXXX-year-old XXXX with dyspnea.</td>\n",
       "      <td>The lungs are without focal air space opacity....</td>\n",
       "      <td>No acute cardiopulmonary abnormality.</td>\n",
       "      <td>[normal]</td>\n",
       "      <td>NaN</td>\n",
       "      <td>NaN</td>\n",
       "    </tr>\n",
       "    <tr>\n",
       "      <th>1</th>\n",
       "      <td>1734</td>\n",
       "      <td>NaN</td>\n",
       "      <td>Back pain</td>\n",
       "      <td>Heart size and mediastinal contour are normal....</td>\n",
       "      <td>No acute cardiopulmonary process.</td>\n",
       "      <td>[normal]</td>\n",
       "      <td>NaN</td>\n",
       "      <td>NaN</td>\n",
       "    </tr>\n",
       "    <tr>\n",
       "      <th>2</th>\n",
       "      <td>306</td>\n",
       "      <td>NaN</td>\n",
       "      <td>NaN</td>\n",
       "      <td>The lungs are clear. Heart size is normal. No ...</td>\n",
       "      <td>Clear lungs. No acute cardiopulmonary abnormal...</td>\n",
       "      <td>[normal]</td>\n",
       "      <td>NaN</td>\n",
       "      <td>NaN</td>\n",
       "    </tr>\n",
       "    <tr>\n",
       "      <th>3</th>\n",
       "      <td>3188</td>\n",
       "      <td>Chest x-XXXX, XXXX, XXXX.</td>\n",
       "      <td>This is a XXXX-year-old male patient with vomi...</td>\n",
       "      <td>NaN</td>\n",
       "      <td>The cardiac silhouette appears be at upper lim...</td>\n",
       "      <td>[Cardiac Shadow/enlarged/borderline, Mediastin...</td>\n",
       "      <td>NaN</td>\n",
       "      <td>NaN</td>\n",
       "    </tr>\n",
       "    <tr>\n",
       "      <th>4</th>\n",
       "      <td>1951</td>\n",
       "      <td>NaN</td>\n",
       "      <td>NaN</td>\n",
       "      <td>Cardiomediastinal silhouette is normal. Pulmon...</td>\n",
       "      <td>No acute cardiopulmonary disease.</td>\n",
       "      <td>[normal]</td>\n",
       "      <td>NaN</td>\n",
       "      <td>NaN</td>\n",
       "    </tr>\n",
       "  </tbody>\n",
       "</table>\n",
       "</div>"
      ],
      "text/plain": [
       "  fileNo                 COMPARISON  \\\n",
       "0    881            None available.   \n",
       "1   1734                        NaN   \n",
       "2    306                        NaN   \n",
       "3   3188  Chest x-XXXX, XXXX, XXXX.   \n",
       "4   1951                        NaN   \n",
       "\n",
       "                                          INDICATION  \\\n",
       "0                   XXXX-year-old XXXX with dyspnea.   \n",
       "1                                          Back pain   \n",
       "2                                                NaN   \n",
       "3  This is a XXXX-year-old male patient with vomi...   \n",
       "4                                                NaN   \n",
       "\n",
       "                                            FINDINGS  \\\n",
       "0  The lungs are without focal air space opacity....   \n",
       "1  Heart size and mediastinal contour are normal....   \n",
       "2  The lungs are clear. Heart size is normal. No ...   \n",
       "3                                                NaN   \n",
       "4  Cardiomediastinal silhouette is normal. Pulmon...   \n",
       "\n",
       "                                          IMPRESSION  \\\n",
       "0              No acute cardiopulmonary abnormality.   \n",
       "1                  No acute cardiopulmonary process.   \n",
       "2  Clear lungs. No acute cardiopulmonary abnormal...   \n",
       "3  The cardiac silhouette appears be at upper lim...   \n",
       "4                  No acute cardiopulmonary disease.   \n",
       "\n",
       "                                       expert_labels manual_labels  \\\n",
       "0                                           [normal]           NaN   \n",
       "1                                           [normal]           NaN   \n",
       "2                                           [normal]           NaN   \n",
       "3  [Cardiac Shadow/enlarged/borderline, Mediastin...           NaN   \n",
       "4                                           [normal]           NaN   \n",
       "\n",
       "   NormalLabel  \n",
       "0          NaN  \n",
       "1          NaN  \n",
       "2          NaN  \n",
       "3          NaN  \n",
       "4          NaN  "
      ]
     },
     "execution_count": 10,
     "metadata": {},
     "output_type": "execute_result"
    }
   ],
   "source": [
    "xml_df.head()"
   ]
  },
  {
   "cell_type": "code",
   "execution_count": 11,
   "metadata": {},
   "outputs": [
    {
     "data": {
      "text/html": [
       "<div>\n",
       "<style scoped>\n",
       "    .dataframe tbody tr th:only-of-type {\n",
       "        vertical-align: middle;\n",
       "    }\n",
       "\n",
       "    .dataframe tbody tr th {\n",
       "        vertical-align: top;\n",
       "    }\n",
       "\n",
       "    .dataframe thead th {\n",
       "        text-align: right;\n",
       "    }\n",
       "</style>\n",
       "<table border=\"1\" class=\"dataframe\">\n",
       "  <thead>\n",
       "    <tr style=\"text-align: right;\">\n",
       "      <th></th>\n",
       "      <th>fileNo</th>\n",
       "      <th>COMPARISON</th>\n",
       "      <th>INDICATION</th>\n",
       "      <th>FINDINGS</th>\n",
       "      <th>IMPRESSION</th>\n",
       "      <th>expert_labels</th>\n",
       "      <th>manual_labels</th>\n",
       "      <th>NormalLabel</th>\n",
       "    </tr>\n",
       "  </thead>\n",
       "  <tbody>\n",
       "    <tr>\n",
       "      <th>0</th>\n",
       "      <td>881</td>\n",
       "      <td>None available.</td>\n",
       "      <td>XXXX-year-old XXXX with dyspnea.</td>\n",
       "      <td>The lungs are without focal air space opacity....</td>\n",
       "      <td>No acute cardiopulmonary abnormality.</td>\n",
       "      <td>[normal]</td>\n",
       "      <td>NaN</td>\n",
       "      <td>1</td>\n",
       "    </tr>\n",
       "    <tr>\n",
       "      <th>1</th>\n",
       "      <td>1734</td>\n",
       "      <td>NaN</td>\n",
       "      <td>Back pain</td>\n",
       "      <td>Heart size and mediastinal contour are normal....</td>\n",
       "      <td>No acute cardiopulmonary process.</td>\n",
       "      <td>[normal]</td>\n",
       "      <td>NaN</td>\n",
       "      <td>1</td>\n",
       "    </tr>\n",
       "    <tr>\n",
       "      <th>2</th>\n",
       "      <td>306</td>\n",
       "      <td>NaN</td>\n",
       "      <td>NaN</td>\n",
       "      <td>The lungs are clear. Heart size is normal. No ...</td>\n",
       "      <td>Clear lungs. No acute cardiopulmonary abnormal...</td>\n",
       "      <td>[normal]</td>\n",
       "      <td>NaN</td>\n",
       "      <td>1</td>\n",
       "    </tr>\n",
       "    <tr>\n",
       "      <th>3</th>\n",
       "      <td>3188</td>\n",
       "      <td>Chest x-XXXX, XXXX, XXXX.</td>\n",
       "      <td>This is a XXXX-year-old male patient with vomi...</td>\n",
       "      <td>NaN</td>\n",
       "      <td>The cardiac silhouette appears be at upper lim...</td>\n",
       "      <td>[Cardiac Shadow/enlarged/borderline, Mediastin...</td>\n",
       "      <td>NaN</td>\n",
       "      <td>0</td>\n",
       "    </tr>\n",
       "    <tr>\n",
       "      <th>4</th>\n",
       "      <td>1951</td>\n",
       "      <td>NaN</td>\n",
       "      <td>NaN</td>\n",
       "      <td>Cardiomediastinal silhouette is normal. Pulmon...</td>\n",
       "      <td>No acute cardiopulmonary disease.</td>\n",
       "      <td>[normal]</td>\n",
       "      <td>NaN</td>\n",
       "      <td>1</td>\n",
       "    </tr>\n",
       "  </tbody>\n",
       "</table>\n",
       "</div>"
      ],
      "text/plain": [
       "  fileNo                 COMPARISON  \\\n",
       "0    881            None available.   \n",
       "1   1734                        NaN   \n",
       "2    306                        NaN   \n",
       "3   3188  Chest x-XXXX, XXXX, XXXX.   \n",
       "4   1951                        NaN   \n",
       "\n",
       "                                          INDICATION  \\\n",
       "0                   XXXX-year-old XXXX with dyspnea.   \n",
       "1                                          Back pain   \n",
       "2                                                NaN   \n",
       "3  This is a XXXX-year-old male patient with vomi...   \n",
       "4                                                NaN   \n",
       "\n",
       "                                            FINDINGS  \\\n",
       "0  The lungs are without focal air space opacity....   \n",
       "1  Heart size and mediastinal contour are normal....   \n",
       "2  The lungs are clear. Heart size is normal. No ...   \n",
       "3                                                NaN   \n",
       "4  Cardiomediastinal silhouette is normal. Pulmon...   \n",
       "\n",
       "                                          IMPRESSION  \\\n",
       "0              No acute cardiopulmonary abnormality.   \n",
       "1                  No acute cardiopulmonary process.   \n",
       "2  Clear lungs. No acute cardiopulmonary abnormal...   \n",
       "3  The cardiac silhouette appears be at upper lim...   \n",
       "4                  No acute cardiopulmonary disease.   \n",
       "\n",
       "                                       expert_labels manual_labels  \\\n",
       "0                                           [normal]           NaN   \n",
       "1                                           [normal]           NaN   \n",
       "2                                           [normal]           NaN   \n",
       "3  [Cardiac Shadow/enlarged/borderline, Mediastin...           NaN   \n",
       "4                                           [normal]           NaN   \n",
       "\n",
       "   NormalLabel  \n",
       "0            1  \n",
       "1            1  \n",
       "2            1  \n",
       "3            0  \n",
       "4            1  "
      ]
     },
     "execution_count": 11,
     "metadata": {},
     "output_type": "execute_result"
    }
   ],
   "source": [
    "xml_df['NormalLabel'] = xml_df.apply(lambda row: 1 if row['expert_labels'][0] == 'normal'\\\n",
    "                      else 0 , axis=1)\n",
    "xml_df.head()"
   ]
  },
  {
   "cell_type": "code",
   "execution_count": 12,
   "metadata": {},
   "outputs": [
    {
     "data": {
      "text/plain": [
       "0    2564\n",
       "1    1391\n",
       "Name: NormalLabel, dtype: int64"
      ]
     },
     "execution_count": 12,
     "metadata": {},
     "output_type": "execute_result"
    }
   ],
   "source": [
    "xml_df['NormalLabel'].value_counts()"
   ]
  },
  {
   "cell_type": "markdown",
   "metadata": {},
   "source": [
    "# Export the csv file"
   ]
  },
  {
   "cell_type": "code",
   "execution_count": 13,
   "metadata": {},
   "outputs": [],
   "source": [
    "xml_df.to_csv('OpenI.csv', index=False)"
   ]
  },
  {
   "cell_type": "code",
   "execution_count": 14,
   "metadata": {},
   "outputs": [
    {
     "data": {
      "text/plain": [
       "0"
      ]
     },
     "execution_count": 14,
     "metadata": {},
     "output_type": "execute_result"
    }
   ],
   "source": [
    "################# remove the unziped data #################\n",
    "os.system('rm -rf ./data/OpenI/ecgen-radiology')"
   ]
  },
  {
   "cell_type": "markdown",
   "metadata": {},
   "source": [
    "# Distributions"
   ]
  },
  {
   "cell_type": "code",
   "execution_count": 29,
   "metadata": {},
   "outputs": [
    {
     "data": {
      "image/png": "[encoded data removed]",
      "text/plain": [
       "<Figure size 432x288 with 1 Axes>"
      ]
     },
     "metadata": {
      "needs_background": "light"
     },
     "output_type": "display_data"
    }
   ],
   "source": [
    "##############Finding#############\n",
    "finding_lens = []\n",
    "for finding in xml_df['FINDINGS']:\n",
    "    length = 0\n",
    "    if finding is not np.nan:\n",
    "#         print(finding)\n",
    "        length = len(finding)\n",
    "    finding_lens.append(length)\n",
    "\n",
    "n, bins, patches = plt.hist(x=finding_lens, bins='auto', color='#0504aa',\n",
    "                            alpha=0.7, rwidth=0.85)\n",
    "plt.grid(axis='y', alpha=0.75)\n",
    "plt.xlabel('Length')\n",
    "plt.ylabel('Frequency')\n",
    "plt.title('FINDINGS length histogram')\n",
    "\n",
    "maxfreq = n.max()\n",
    "plt.grid(axis='y', alpha=0.75)"
   ]
  },
  {
   "cell_type": "code",
   "execution_count": 36,
   "metadata": {},
   "outputs": [
    {
     "data": {
      "image/png": "[encoded data removed]",
      "text/plain": [
       "<Figure size 432x288 with 1 Axes>"
      ]
     },
     "metadata": {
      "needs_background": "light"
     },
     "output_type": "display_data"
    }
   ],
   "source": [
    "##############Finding#############\n",
    "impression_lens = []\n",
    "for impression in xml_df['IMPRESSION']:\n",
    "    length = 0\n",
    "    if impression is not np.nan:\n",
    "        length = len(impression)\n",
    "    impression_lens.append(length)\n",
    "\n",
    "n, bins, patches = plt.hist(x=impression_lens, bins='auto', color='#0504aa',\n",
    "                            alpha=0.8, rwidth=0.85)\n",
    "plt.grid(axis='y', alpha=0.75)\n",
    "plt.xlabel('Length')\n",
    "plt.ylabel('Frequency')\n",
    "plt.title('IMPRESSION length histogram')\n",
    "\n",
    "maxfreq = n.max()\n",
    "plt.grid(axis='y', alpha=0.75)"
   ]
  },
  {
   "cell_type": "code",
   "execution_count": 49,
   "metadata": {},
   "outputs": [
    {
     "name": "stdout",
     "output_type": "stream",
     "text": [
      "No. of Unique expert labels: 1719\n"
     ]
    }
   ],
   "source": [
    "expert_labels = []\n",
    "for labels in xml_df['expert_labels']:\n",
    "    for label in labels:\n",
    "        expert_labels.append(label)\n",
    "\n",
    "print(\"No. of Unique expert labels:\", len(letter_counts))\n",
    "label_counts = Counter(expert_labels)\n",
    "\n",
    "\n"
   ]
  },
  {
   "cell_type": "code",
   "execution_count": 71,
   "metadata": {},
   "outputs": [
    {
     "data": {
      "text/plain": [
       "<matplotlib.axes._subplots.AxesSubplot at 0x7fe14ac90c90>"
      ]
     },
     "execution_count": 71,
     "metadata": {},
     "output_type": "execute_result"
    },
    {
     "data": {
      "image/png": "[encoded data removed]",
      "text/plain": [
       "<Figure size 432x288 with 1 Axes>"
      ]
     },
     "metadata": {
      "needs_background": "light"
     },
     "output_type": "display_data"
    }
   ],
   "source": [
    "from collections import OrderedDict\n",
    "from itertools import islice\n",
    "\n",
    "sorted_label_counts = OrderedDict(sorted(label_counts.items(), key=lambda x: x[1], reverse=True))\n",
    "# print(sorted_label_counts)\n",
    "\n",
    "sliced = islice(sorted_label_counts.items(), 20)  # o.iteritems() is o.items() in Python 3\n",
    "sliced_o = OrderedDict(sliced)\n",
    "\n",
    "df = pandas.DataFrame.from_dict(sliced_o, orient='index')\n",
    "df.plot(kind='bar', title = \"Top 20 ranked expert labels\")"
   ]
  },
  {
   "cell_type": "code",
   "execution_count": null,
   "metadata": {},
   "outputs": [],
   "source": []
  }
 ],
 "metadata": {
  "kernelspec": {
   "display_name": "Python 3",
   "language": "python",
   "name": "python3"
  },
  "language_info": {
   "codemirror_mode": {
    "name": "ipython",
    "version": 3
   },
   "file_extension": ".py",
   "mimetype": "text/x-python",
   "name": "python",
   "nbconvert_exporter": "python",
   "pygments_lexer": "ipython3",
   "version": "3.7.6"
  }
 },
 "nbformat": 4,
 "nbformat_minor": 4
}
