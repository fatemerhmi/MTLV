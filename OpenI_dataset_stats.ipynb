{
 "cells": [
  {
   "cell_type": "code",
   "execution_count": 46,
   "metadata": {},
   "outputs": [],
   "source": [
    "import os\n",
    "import glob\n",
    "import re \n",
    "from xml.dom import minidom\n",
    "import pandas as pd\n",
    "import tqdm"
   ]
  },
  {
   "cell_type": "markdown",
   "metadata": {},
   "source": [
    "# read the data"
   ]
  },
  {
   "cell_type": "code",
   "execution_count": 2,
   "metadata": {},
   "outputs": [
    {
     "data": {
      "text/plain": [
       "0"
      ]
     },
     "execution_count": 2,
     "metadata": {},
     "output_type": "execute_result"
    }
   ],
   "source": [
    "os.system('tar -xvf  ./data/NLMCXR_reports.tgz -C ./data/')"
   ]
  },
  {
   "cell_type": "code",
   "execution_count": 3,
   "metadata": {},
   "outputs": [],
   "source": [
    "allFiles = glob.glob(f'./data/**/*.xml', recursive=True)"
   ]
  },
  {
   "cell_type": "code",
   "execution_count": 4,
   "metadata": {},
   "outputs": [
    {
     "data": {
      "text/plain": [
       "3955"
      ]
     },
     "execution_count": 4,
     "metadata": {},
     "output_type": "execute_result"
    }
   ],
   "source": [
    "len(allFiles)"
   ]
  },
  {
   "cell_type": "markdown",
   "metadata": {},
   "source": [
    "# Convert XML to csv"
   ]
  },
  {
   "cell_type": "code",
   "execution_count": 53,
   "metadata": {},
   "outputs": [
    {
     "data": {
      "text/html": [
       "<div>\n",
       "<style scoped>\n",
       "    .dataframe tbody tr th:only-of-type {\n",
       "        vertical-align: middle;\n",
       "    }\n",
       "\n",
       "    .dataframe tbody tr th {\n",
       "        vertical-align: top;\n",
       "    }\n",
       "\n",
       "    .dataframe thead th {\n",
       "        text-align: right;\n",
       "    }\n",
       "</style>\n",
       "<table border=\"1\" class=\"dataframe\">\n",
       "  <thead>\n",
       "    <tr style=\"text-align: right;\">\n",
       "      <th></th>\n",
       "      <th>fileNo</th>\n",
       "      <th>COMPARISON</th>\n",
       "      <th>INDICATION</th>\n",
       "      <th>FINDINGS</th>\n",
       "      <th>IMPRESSION</th>\n",
       "      <th>expert_labels</th>\n",
       "      <th>manual_labels</th>\n",
       "    </tr>\n",
       "  </thead>\n",
       "  <tbody>\n",
       "    <tr>\n",
       "      <th>0</th>\n",
       "      <td>881</td>\n",
       "      <td>None available.</td>\n",
       "      <td>XXXX-year-old XXXX with dyspnea.</td>\n",
       "      <td>The lungs are without focal air space opacity....</td>\n",
       "      <td>No acute cardiopulmonary abnormality.</td>\n",
       "      <td>[normal]</td>\n",
       "      <td>[]</td>\n",
       "    </tr>\n",
       "    <tr>\n",
       "      <th>1</th>\n",
       "      <td>1734</td>\n",
       "      <td>None.</td>\n",
       "      <td>Back pain</td>\n",
       "      <td>Heart size and mediastinal contour are normal....</td>\n",
       "      <td>No acute cardiopulmonary process.</td>\n",
       "      <td>[normal]</td>\n",
       "      <td>[]</td>\n",
       "    </tr>\n",
       "    <tr>\n",
       "      <th>2</th>\n",
       "      <td>306</td>\n",
       "      <td>None.</td>\n",
       "      <td></td>\n",
       "      <td>The lungs are clear. Heart size is normal. No ...</td>\n",
       "      <td>Clear lungs. No acute cardiopulmonary abnormal...</td>\n",
       "      <td>[normal]</td>\n",
       "      <td>[]</td>\n",
       "    </tr>\n",
       "    <tr>\n",
       "      <th>3</th>\n",
       "      <td>3188</td>\n",
       "      <td>Chest x-XXXX, XXXX, XXXX.</td>\n",
       "      <td>This is a XXXX-year-old male patient with vomi...</td>\n",
       "      <td></td>\n",
       "      <td>The cardiac silhouette appears be at upper lim...</td>\n",
       "      <td>[Cardiac Shadow/enlarged/borderline, Mediastin...</td>\n",
       "      <td>[]</td>\n",
       "    </tr>\n",
       "    <tr>\n",
       "      <th>4</th>\n",
       "      <td>1951</td>\n",
       "      <td></td>\n",
       "      <td></td>\n",
       "      <td>Cardiomediastinal silhouette is normal. Pulmon...</td>\n",
       "      <td>No acute cardiopulmonary disease.</td>\n",
       "      <td>[normal]</td>\n",
       "      <td>[]</td>\n",
       "    </tr>\n",
       "  </tbody>\n",
       "</table>\n",
       "</div>"
      ],
      "text/plain": [
       "  fileNo                 COMPARISON  \\\n",
       "0    881            None available.   \n",
       "1   1734                      None.   \n",
       "2    306                      None.   \n",
       "3   3188  Chest x-XXXX, XXXX, XXXX.   \n",
       "4   1951                              \n",
       "\n",
       "                                          INDICATION  \\\n",
       "0                   XXXX-year-old XXXX with dyspnea.   \n",
       "1                                          Back pain   \n",
       "2                                                      \n",
       "3  This is a XXXX-year-old male patient with vomi...   \n",
       "4                                                      \n",
       "\n",
       "                                            FINDINGS  \\\n",
       "0  The lungs are without focal air space opacity....   \n",
       "1  Heart size and mediastinal contour are normal....   \n",
       "2  The lungs are clear. Heart size is normal. No ...   \n",
       "3                                                      \n",
       "4  Cardiomediastinal silhouette is normal. Pulmon...   \n",
       "\n",
       "                                          IMPRESSION  \\\n",
       "0              No acute cardiopulmonary abnormality.   \n",
       "1                  No acute cardiopulmonary process.   \n",
       "2  Clear lungs. No acute cardiopulmonary abnormal...   \n",
       "3  The cardiac silhouette appears be at upper lim...   \n",
       "4                  No acute cardiopulmonary disease.   \n",
       "\n",
       "                                       expert_labels manual_labels  \n",
       "0                                           [normal]            []  \n",
       "1                                           [normal]            []  \n",
       "2                                           [normal]            []  \n",
       "3  [Cardiac Shadow/enlarged/borderline, Mediastin...            []  \n",
       "4                                           [normal]            []  "
      ]
     },
     "execution_count": 53,
     "metadata": {},
     "output_type": "execute_result"
    }
   ],
   "source": [
    "def getfilename(xml_file):\n",
    "    x = re.search(\"[ \\w-]+?(?=\\.)\", xml_file)\n",
    "    return x.group()\n",
    "\n",
    "def get_report(xml_file):\n",
    "    #get radiology report text\n",
    "    data = {}\n",
    "    mydoc = minidom.parse(xml_file)\n",
    "    elements = mydoc.getElementsByTagName('AbstractText')\n",
    "    for element in elements:\n",
    "        txt = \"\"\n",
    "        if element.firstChild != None:\n",
    "            txt = element.firstChild.data\n",
    "        data[element.attributes['Label'].value] = txt\n",
    "        \n",
    "    return data\n",
    "\n",
    "def get_labels(xml_file):\n",
    "    data = {}\n",
    "    mydoc = minidom.parse(xml_file)\n",
    "    elements = mydoc.getElementsByTagName('major')\n",
    "    txt = []\n",
    "    for element in elements:\n",
    "        if element.firstChild != None:\n",
    "            txt.append(element.firstChild.data)\n",
    "    data['expert_labels'] = txt\n",
    "    \n",
    "    elements = mydoc.getElementsByTagName('automatic')\n",
    "    txt = []\n",
    "    for element in elements:\n",
    "        if element.firstChild != None:\n",
    "            txt.append(element.firstChild.data)\n",
    "    data['manual_labels'] = txt\n",
    "    \n",
    "    return data\n",
    "\n",
    "def convert_xml2csv(allFiles):\n",
    "    columns = [\"fileNo\", \"COMPARISON\", \"INDICATION\", \"FINDINGS\", \"IMPRESSION\", \"expert_labels\", \"manual_labels\"]\n",
    "    xml_df = pd.DataFrame(columns = columns)\n",
    "    for xml_file in allFiles:\n",
    "#         print(xml_file)\n",
    "        row = {}\n",
    "        row['fileNo'] = getfilename(xml_file)\n",
    "\n",
    "        reportDic = get_report(xml_file)\n",
    "        labelsDic = get_labels(xml_file)\n",
    "\n",
    "        row = {**row ,**reportDic, **labelsDic}\n",
    "        xml_df = xml_df.append(row,ignore_index=True)\n",
    "    return xml_df\n",
    "\n",
    "xml_df = convert_xml2csv(allFiles)\n",
    "xml_df.head()"
   ]
  }
 ],
 "metadata": {
  "kernelspec": {
   "display_name": "Python 3",
   "language": "python",
   "name": "python3"
  },
  "language_info": {
   "codemirror_mode": {
    "name": "ipython",
    "version": 3
   },
   "file_extension": ".py",
   "mimetype": "text/x-python",
   "name": "python",
   "nbconvert_exporter": "python",
   "pygments_lexer": "ipython3",
   "version": "3.7.6"
  }
 },
 "nbformat": 4,
 "nbformat_minor": 4
}
