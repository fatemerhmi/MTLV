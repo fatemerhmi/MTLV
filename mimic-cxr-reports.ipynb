{
 "cells": [
  {
   "cell_type": "markdown",
   "metadata": {},
   "source": [
    "# mimic-cxr-reports.zip\n",
    "* compressed archive containing all text reports in the dataset\n",
    "* text reports are available within each patient folder"
   ]
  },
  {
   "cell_type": "code",
   "execution_count": null,
   "metadata": {},
   "outputs": [],
   "source": [
    "import sys\n",
    "import zipfile\n",
    "\n",
    "path_to_zip_file = \"./data/MIMIC-III-CXR/mimic-cxr-reports.zip\"\n",
    "directory_to_extract_to = \"./data/MIMIC-III-CXR/mimic-cxr-reports/\"\n",
    "with zipfile.ZipFile(path_to_zip_file, 'r') as zip_ref:\n",
    "    zip_ref.extractall(directory_to_extract_to)"
   ]
  },
  {
   "cell_type": "code",
   "execution_count": null,
   "metadata": {},
   "outputs": [],
   "source": [
    "allFiles = glob.glob(f'./data/MIMIC-III-CXR/**/*.txt', recursive=True)\n",
    "len(allFiles)"
   ]
  },
  {
   "cell_type": "code",
   "execution_count": null,
   "metadata": {},
   "outputs": [],
   "source": [
    "################# remove the unziped data #################\n",
    "# os.system('rm -rf ./data/MIMIC-III-CXR/mimic-cxr-reports/')"
   ]
  }
 ],
 "metadata": {
  "kernelspec": {
   "display_name": "Python 3",
   "language": "python",
   "name": "python3"
  },
  "language_info": {
   "codemirror_mode": {
    "name": "ipython",
    "version": 3
   },
   "file_extension": ".py",
   "mimetype": "text/x-python",
   "name": "python",
   "nbconvert_exporter": "python",
   "pygments_lexer": "ipython3",
   "version": "3.7.6"
  }
 },
 "nbformat": 4,
 "nbformat_minor": 4
}
