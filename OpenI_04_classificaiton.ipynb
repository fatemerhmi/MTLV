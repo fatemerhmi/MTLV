{
 "cells": [
  {
   "cell_type": "code",
   "execution_count": 1,
   "metadata": {},
   "outputs": [],
   "source": [
    "import pandas as pd\n",
    "from sklearn.model_selection import train_test_split\n",
    "import numpy as np\n",
    "import seaborn as sn\n",
    "import matplotlib.pyplot as plt\n",
    "from sklearn.metrics import multilabel_confusion_matrix"
   ]
  },
  {
   "cell_type": "markdown",
   "metadata": {},
   "source": [
    "# Reading the data"
   ]
  },
  {
   "cell_type": "code",
   "execution_count": 2,
   "metadata": {},
   "outputs": [
    {
     "name": "stdout",
     "output_type": "stream",
     "text": [
      "The total No. of rows: 2452\n"
     ]
    },
    {
     "data": {
      "text/html": [
       "<div>\n",
       "<style scoped>\n",
       "    .dataframe tbody tr th:only-of-type {\n",
       "        vertical-align: middle;\n",
       "    }\n",
       "\n",
       "    .dataframe tbody tr th {\n",
       "        vertical-align: top;\n",
       "    }\n",
       "\n",
       "    .dataframe thead th {\n",
       "        text-align: right;\n",
       "    }\n",
       "</style>\n",
       "<table border=\"1\" class=\"dataframe\">\n",
       "  <thead>\n",
       "    <tr style=\"text-align: right;\">\n",
       "      <th></th>\n",
       "      <th>fileNo</th>\n",
       "      <th>COMPARISON</th>\n",
       "      <th>INDICATION</th>\n",
       "      <th>FINDINGS</th>\n",
       "      <th>IMPRESSION</th>\n",
       "      <th>expert_labels</th>\n",
       "      <th>No Finding</th>\n",
       "      <th>Cardiomegaly</th>\n",
       "      <th>Lung Opacity</th>\n",
       "      <th>Edema</th>\n",
       "      <th>Consolidation</th>\n",
       "      <th>Pneumonia</th>\n",
       "      <th>Atelectasis</th>\n",
       "      <th>Pneumothorax</th>\n",
       "      <th>Pleural Effusion</th>\n",
       "      <th>Fracture</th>\n",
       "      <th>SupportDevices</th>\n",
       "    </tr>\n",
       "  </thead>\n",
       "  <tbody>\n",
       "    <tr>\n",
       "      <th>0</th>\n",
       "      <td>881</td>\n",
       "      <td>None available.</td>\n",
       "      <td>XXXX-year-old XXXX with dyspnea.</td>\n",
       "      <td>The lungs are without focal air space opacity....</td>\n",
       "      <td>No acute cardiopulmonary abnormality.</td>\n",
       "      <td>['No Finding']</td>\n",
       "      <td>1</td>\n",
       "      <td>0</td>\n",
       "      <td>0</td>\n",
       "      <td>0</td>\n",
       "      <td>0</td>\n",
       "      <td>0</td>\n",
       "      <td>0</td>\n",
       "      <td>0</td>\n",
       "      <td>0</td>\n",
       "      <td>0</td>\n",
       "      <td>0</td>\n",
       "    </tr>\n",
       "    <tr>\n",
       "      <th>1</th>\n",
       "      <td>1734</td>\n",
       "      <td>NaN</td>\n",
       "      <td>Back pain</td>\n",
       "      <td>Heart size and mediastinal contour are normal....</td>\n",
       "      <td>No acute cardiopulmonary process.</td>\n",
       "      <td>['No Finding']</td>\n",
       "      <td>1</td>\n",
       "      <td>0</td>\n",
       "      <td>0</td>\n",
       "      <td>0</td>\n",
       "      <td>0</td>\n",
       "      <td>0</td>\n",
       "      <td>0</td>\n",
       "      <td>0</td>\n",
       "      <td>0</td>\n",
       "      <td>0</td>\n",
       "      <td>0</td>\n",
       "    </tr>\n",
       "    <tr>\n",
       "      <th>2</th>\n",
       "      <td>306</td>\n",
       "      <td>NaN</td>\n",
       "      <td>NaN</td>\n",
       "      <td>The lungs are clear. Heart size is normal. No ...</td>\n",
       "      <td>Clear lungs. No acute cardiopulmonary abnormal...</td>\n",
       "      <td>['No Finding']</td>\n",
       "      <td>1</td>\n",
       "      <td>0</td>\n",
       "      <td>0</td>\n",
       "      <td>0</td>\n",
       "      <td>0</td>\n",
       "      <td>0</td>\n",
       "      <td>0</td>\n",
       "      <td>0</td>\n",
       "      <td>0</td>\n",
       "      <td>0</td>\n",
       "      <td>0</td>\n",
       "    </tr>\n",
       "    <tr>\n",
       "      <th>3</th>\n",
       "      <td>1951</td>\n",
       "      <td>NaN</td>\n",
       "      <td>NaN</td>\n",
       "      <td>Cardiomediastinal silhouette is normal. Pulmon...</td>\n",
       "      <td>No acute cardiopulmonary disease.</td>\n",
       "      <td>['No Finding']</td>\n",
       "      <td>1</td>\n",
       "      <td>0</td>\n",
       "      <td>0</td>\n",
       "      <td>0</td>\n",
       "      <td>0</td>\n",
       "      <td>0</td>\n",
       "      <td>0</td>\n",
       "      <td>0</td>\n",
       "      <td>0</td>\n",
       "      <td>0</td>\n",
       "      <td>0</td>\n",
       "    </tr>\n",
       "    <tr>\n",
       "      <th>4</th>\n",
       "      <td>1005</td>\n",
       "      <td>NaN</td>\n",
       "      <td>Pruritic.</td>\n",
       "      <td>Cardiac and mediastinal contours are within no...</td>\n",
       "      <td>No acute findings.</td>\n",
       "      <td>['No Finding']</td>\n",
       "      <td>1</td>\n",
       "      <td>0</td>\n",
       "      <td>0</td>\n",
       "      <td>0</td>\n",
       "      <td>0</td>\n",
       "      <td>0</td>\n",
       "      <td>0</td>\n",
       "      <td>0</td>\n",
       "      <td>0</td>\n",
       "      <td>0</td>\n",
       "      <td>0</td>\n",
       "    </tr>\n",
       "  </tbody>\n",
       "</table>\n",
       "</div>"
      ],
      "text/plain": [
       "   fileNo       COMPARISON                        INDICATION  \\\n",
       "0     881  None available.  XXXX-year-old XXXX with dyspnea.   \n",
       "1    1734              NaN                         Back pain   \n",
       "2     306              NaN                               NaN   \n",
       "3    1951              NaN                               NaN   \n",
       "4    1005              NaN                         Pruritic.   \n",
       "\n",
       "                                            FINDINGS  \\\n",
       "0  The lungs are without focal air space opacity....   \n",
       "1  Heart size and mediastinal contour are normal....   \n",
       "2  The lungs are clear. Heart size is normal. No ...   \n",
       "3  Cardiomediastinal silhouette is normal. Pulmon...   \n",
       "4  Cardiac and mediastinal contours are within no...   \n",
       "\n",
       "                                          IMPRESSION   expert_labels  \\\n",
       "0              No acute cardiopulmonary abnormality.  ['No Finding']   \n",
       "1                  No acute cardiopulmonary process.  ['No Finding']   \n",
       "2  Clear lungs. No acute cardiopulmonary abnormal...  ['No Finding']   \n",
       "3                  No acute cardiopulmonary disease.  ['No Finding']   \n",
       "4                                 No acute findings.  ['No Finding']   \n",
       "\n",
       "   No Finding  Cardiomegaly  Lung Opacity  Edema  Consolidation  Pneumonia  \\\n",
       "0           1             0             0      0              0          0   \n",
       "1           1             0             0      0              0          0   \n",
       "2           1             0             0      0              0          0   \n",
       "3           1             0             0      0              0          0   \n",
       "4           1             0             0      0              0          0   \n",
       "\n",
       "   Atelectasis  Pneumothorax  Pleural Effusion  Fracture  SupportDevices  \n",
       "0            0             0                 0         0               0  \n",
       "1            0             0                 0         0               0  \n",
       "2            0             0                 0         0               0  \n",
       "3            0             0                 0         0               0  \n",
       "4            0             0                 0         0               0  "
      ]
     },
     "execution_count": 2,
     "metadata": {},
     "output_type": "execute_result"
    }
   ],
   "source": [
    "df = pd.read_csv('data/OpenI/OpenI_cheXpertLabels.csv')\n",
    "print(\"The total No. of rows:\", len(df))\n",
    "df.head()"
   ]
  },
  {
   "cell_type": "code",
   "execution_count": 3,
   "metadata": {},
   "outputs": [
    {
     "name": "stdout",
     "output_type": "stream",
     "text": [
      "No. of rows with Finding: 2106\n",
      "No. of rows with Impression: 2420\n",
      "No. of rows with Impression or Finding: 2424\n",
      "No. of rows without Impression and Finding: 28\n"
     ]
    }
   ],
   "source": [
    "print('No. of rows with Finding:', len(df[df['FINDINGS'].notnull()]))\n",
    "print('No. of rows with Impression:', len(df[df['IMPRESSION'].notnull()]))\n",
    "print('No. of rows with Impression or Finding:', \n",
    "      len(df[df['IMPRESSION'].notnull() | df['FINDINGS'].notnull()]))\n",
    "print('No. of rows without Impression and Finding:', \n",
    "      len(df[df['IMPRESSION'].isna() & df['FINDINGS'].isna()]))"
   ]
  },
  {
   "cell_type": "code",
   "execution_count": 4,
   "metadata": {},
   "outputs": [
    {
     "name": "stdout",
     "output_type": "stream",
     "text": [
      "No. of rows without Impression and Finding: 0\n"
     ]
    }
   ],
   "source": [
    "idx = df[df['IMPRESSION'].isna() & df['FINDINGS'].isna()].index\n",
    "df = df.drop(idx)\n",
    "print('No. of rows without Impression and Finding:', \n",
    "      len(df[df['IMPRESSION'].isna() & df['FINDINGS'].isna()]))"
   ]
  },
  {
   "cell_type": "code",
   "execution_count": 5,
   "metadata": {},
   "outputs": [
    {
     "data": {
      "text/html": [
       "<div>\n",
       "<style scoped>\n",
       "    .dataframe tbody tr th:only-of-type {\n",
       "        vertical-align: middle;\n",
       "    }\n",
       "\n",
       "    .dataframe tbody tr th {\n",
       "        vertical-align: top;\n",
       "    }\n",
       "\n",
       "    .dataframe thead th {\n",
       "        text-align: right;\n",
       "    }\n",
       "</style>\n",
       "<table border=\"1\" class=\"dataframe\">\n",
       "  <thead>\n",
       "    <tr style=\"text-align: right;\">\n",
       "      <th></th>\n",
       "      <th>text</th>\n",
       "      <th>labels</th>\n",
       "    </tr>\n",
       "  </thead>\n",
       "  <tbody>\n",
       "    <tr>\n",
       "      <th>0</th>\n",
       "      <td>The lungs are without focal air space opacity....</td>\n",
       "      <td>[1, 0, 0, 0, 0, 0, 0, 0, 0, 0, 0]</td>\n",
       "    </tr>\n",
       "    <tr>\n",
       "      <th>1</th>\n",
       "      <td>Heart size and mediastinal contour are normal....</td>\n",
       "      <td>[1, 0, 0, 0, 0, 0, 0, 0, 0, 0, 0]</td>\n",
       "    </tr>\n",
       "    <tr>\n",
       "      <th>2</th>\n",
       "      <td>The lungs are clear. Heart size is normal. No ...</td>\n",
       "      <td>[1, 0, 0, 0, 0, 0, 0, 0, 0, 0, 0]</td>\n",
       "    </tr>\n",
       "    <tr>\n",
       "      <th>3</th>\n",
       "      <td>Cardiomediastinal silhouette is normal. Pulmon...</td>\n",
       "      <td>[1, 0, 0, 0, 0, 0, 0, 0, 0, 0, 0]</td>\n",
       "    </tr>\n",
       "    <tr>\n",
       "      <th>4</th>\n",
       "      <td>Cardiac and mediastinal contours are within no...</td>\n",
       "      <td>[1, 0, 0, 0, 0, 0, 0, 0, 0, 0, 0]</td>\n",
       "    </tr>\n",
       "    <tr>\n",
       "      <th>5</th>\n",
       "      <td>Mediastinal contours are normal. Lungs are cle...</td>\n",
       "      <td>[1, 0, 0, 0, 0, 0, 0, 0, 0, 0, 0]</td>\n",
       "    </tr>\n",
       "    <tr>\n",
       "      <th>6</th>\n",
       "      <td>Heart size and mediastinal contours are unrema...</td>\n",
       "      <td>[1, 0, 0, 0, 0, 0, 0, 0, 0, 0, 0]</td>\n",
       "    </tr>\n",
       "    <tr>\n",
       "      <th>7</th>\n",
       "      <td>The heart is again enlarged, stable. The left ...</td>\n",
       "      <td>[0, 1, 0, 0, 0, 0, 0, 0, 0, 0, 0]</td>\n",
       "    </tr>\n",
       "    <tr>\n",
       "      <th>8</th>\n",
       "      <td>Normal heart size. No focal air space consolid...</td>\n",
       "      <td>[1, 0, 0, 0, 0, 0, 0, 0, 0, 0, 0]</td>\n",
       "    </tr>\n",
       "    <tr>\n",
       "      <th>9</th>\n",
       "      <td>Heart size within normal limits. No focal airs...</td>\n",
       "      <td>[1, 0, 0, 0, 0, 0, 0, 0, 0, 0, 0]</td>\n",
       "    </tr>\n",
       "  </tbody>\n",
       "</table>\n",
       "</div>"
      ],
      "text/plain": [
       "                                                text  \\\n",
       "0  The lungs are without focal air space opacity....   \n",
       "1  Heart size and mediastinal contour are normal....   \n",
       "2  The lungs are clear. Heart size is normal. No ...   \n",
       "3  Cardiomediastinal silhouette is normal. Pulmon...   \n",
       "4  Cardiac and mediastinal contours are within no...   \n",
       "5  Mediastinal contours are normal. Lungs are cle...   \n",
       "6  Heart size and mediastinal contours are unrema...   \n",
       "7  The heart is again enlarged, stable. The left ...   \n",
       "8  Normal heart size. No focal air space consolid...   \n",
       "9  Heart size within normal limits. No focal airs...   \n",
       "\n",
       "                              labels  \n",
       "0  [1, 0, 0, 0, 0, 0, 0, 0, 0, 0, 0]  \n",
       "1  [1, 0, 0, 0, 0, 0, 0, 0, 0, 0, 0]  \n",
       "2  [1, 0, 0, 0, 0, 0, 0, 0, 0, 0, 0]  \n",
       "3  [1, 0, 0, 0, 0, 0, 0, 0, 0, 0, 0]  \n",
       "4  [1, 0, 0, 0, 0, 0, 0, 0, 0, 0, 0]  \n",
       "5  [1, 0, 0, 0, 0, 0, 0, 0, 0, 0, 0]  \n",
       "6  [1, 0, 0, 0, 0, 0, 0, 0, 0, 0, 0]  \n",
       "7  [0, 1, 0, 0, 0, 0, 0, 0, 0, 0, 0]  \n",
       "8  [1, 0, 0, 0, 0, 0, 0, 0, 0, 0, 0]  \n",
       "9  [1, 0, 0, 0, 0, 0, 0, 0, 0, 0, 0]  "
      ]
     },
     "execution_count": 5,
     "metadata": {},
     "output_type": "execute_result"
    }
   ],
   "source": [
    "labels = ['No Finding', 'Cardiomegaly','Lung Opacity','Edema','Consolidation','Pneumonia','Atelectasis','Pneumothorax','Pleural Effusion','Fracture','SupportDevices']\n",
    "\n",
    "df_cls = pd.DataFrame(columns = ['text', 'labels'])\n",
    "\n",
    "def concat_cols(impression, findings):\n",
    "    if impression is np.nan:\n",
    "        return findings\n",
    "    elif findings is np.nan:\n",
    "        return impression\n",
    "    else:\n",
    "        return findings+impression\n",
    "\n",
    "# create the text column:\n",
    "df_cls['text'] = df.apply(lambda row: concat_cols(row['IMPRESSION'], row['FINDINGS']), axis=1)\n",
    "df_cls['labels'] = df.apply(lambda row: row[labels].to_list(), axis=1)\n",
    "\n",
    "df_cls.head(10)"
   ]
  },
  {
   "cell_type": "markdown",
   "metadata": {},
   "source": [
    "# Splitting the data"
   ]
  },
  {
   "cell_type": "code",
   "execution_count": 6,
   "metadata": {},
   "outputs": [
    {
     "name": "stdout",
     "output_type": "stream",
     "text": [
      "Train:  1939\n",
      "Test:  485\n"
     ]
    }
   ],
   "source": [
    "# Using stratify\n",
    "# trainX, valX, trainY, valY = train_test_split(df_cls['text'].values.tolist(), \n",
    "#                                               df_cls['labels'].values.tolist(), \n",
    "#                                               test_size=0.2,\n",
    "#                                               stratify = df_cls['labels'].values.tolist())\n",
    "\n",
    "# ValueError: The least populated class in y has only 1 member, which is too few. \n",
    "# The minimum number of groups for any class cannot be less than 2.\n",
    "\n",
    "# This because of the nature of stratification. The stratify parameter set it \n",
    "# to split data in a way to allocate test_size amount of data to each class. \n",
    "# In this case, you don't have sufficient class labels of one of your classes \n",
    "# to keep the data splitting ratio equal to test_size\n",
    "\n",
    "train_df, test_df = train_test_split(df_cls, test_size=0.2)\n",
    "# train_df, eval_df = train_test_split(train_val_df, test_size=0.2)\n",
    "\n",
    "print('Train: ', len(train_df))\n",
    "print('Test: ', len(test_df))\n",
    "# print('Eval: ', len(eval_df))\n"
   ]
  },
  {
   "cell_type": "markdown",
   "metadata": {},
   "source": [
    "# simpletransformers implementation\n",
    "\n",
    "* MultiLabelClassificationModel has an additional `threshold` parameter with default value 0.5\n",
    "* MultiLabelClassificationModel takes in an additional optional argument pos_weight. This should be a list with the same length as the number of labels. This enables using different weights for each label when calculating loss during training and evaluation."
   ]
  },
  {
   "cell_type": "code",
   "execution_count": 8,
   "metadata": {},
   "outputs": [
    {
     "name": "stdout",
     "output_type": "stream",
     "text": [
      "                                                   text  \\\n",
      "1713  No acute osseous abnormality. Scattered degene...   \n",
      "459   Stable cardiomediastinal silhouette with norma...   \n",
      "1934  Heart size appears enlarged. Mediastinal conto...   \n",
      "544   The heart size is within normal limits. After ...   \n",
      "619   Heart size within normal limits. Negative for ...   \n",
      "\n",
      "                                 labels  \n",
      "1713  [0, 0, 1, 0, 0, 0, 0, 0, 1, 0, 0]  \n",
      "459   [0, 0, 1, 0, 0, 0, 1, 0, 0, 0, 0]  \n",
      "1934  [0, 1, 0, 0, 0, 0, 1, 0, 0, 0, 0]  \n",
      "544   [0, 0, 1, 0, 0, 0, 0, 0, 0, 0, 0]  \n",
      "619   [1, 0, 0, 0, 0, 0, 0, 0, 0, 0, 0]  \n"
     ]
    },
    {
     "name": "stderr",
     "output_type": "stream",
     "text": [
      "INFO:simpletransformers.classification.classification_model: Converting to features started. Cache is not used.\n"
     ]
    },
    {
     "data": {
      "application/vnd.jupyter.widget-view+json": {
       "model_id": "fce4d3b059f94ac4ab5e347d51dcc30a",
       "version_major": 2,
       "version_minor": 0
      },
      "text/plain": [
       "HBox(children=(FloatProgress(value=0.0, max=1939.0), HTML(value='')))"
      ]
     },
     "metadata": {},
     "output_type": "display_data"
    },
    {
     "name": "stdout",
     "output_type": "stream",
     "text": [
      "\n",
      "Selected optimization level O1:  Insert automatic casts around Pytorch functions and Tensor methods.\n",
      "\n",
      "Defaults for this optimization level are:\n",
      "enabled                : True\n",
      "opt_level              : O1\n",
      "cast_model_type        : None\n",
      "patch_torch_functions  : True\n",
      "keep_batchnorm_fp32    : None\n",
      "master_weights         : None\n",
      "loss_scale             : dynamic\n",
      "Processing user overrides (additional kwargs that are not None)...\n",
      "After processing overrides, optimization options are:\n",
      "enabled                : True\n",
      "opt_level              : O1\n",
      "cast_model_type        : None\n",
      "patch_torch_functions  : True\n",
      "keep_batchnorm_fp32    : None\n",
      "master_weights         : None\n",
      "loss_scale             : dynamic\n"
     ]
    },
    {
     "data": {
      "application/vnd.jupyter.widget-view+json": {
       "model_id": "68701ee51a2f41508e7f2bc5a32371ea",
       "version_major": 2,
       "version_minor": 0
      },
      "text/plain": [
       "HBox(children=(FloatProgress(value=0.0, description='Epoch', max=5.0, style=ProgressStyle(description_width='i…"
      ]
     },
     "metadata": {},
     "output_type": "display_data"
    },
    {
     "data": {
      "application/vnd.jupyter.widget-view+json": {
       "model_id": "a358e99264c54611b1cb60c538ec6a42",
       "version_major": 2,
       "version_minor": 0
      },
      "text/plain": [
       "HBox(children=(FloatProgress(value=0.0, description='Running Epoch 0', max=243.0, style=ProgressStyle(descript…"
      ]
     },
     "metadata": {},
     "output_type": "display_data"
    },
    {
     "name": "stdout",
     "output_type": "stream",
     "text": [
      "\r",
      "Running loss: 0.701905\r",
      "Running loss: 0.691612"
     ]
    },
    {
     "name": "stderr",
     "output_type": "stream",
     "text": [
      "/users/grad/frahimi/.local/lib/python3.7/site-packages/torch/optim/lr_scheduler.py:114: UserWarning: Seems like `optimizer.step()` has been overridden after learning rate scheduler initialization. Please, make sure to call `optimizer.step()` before `lr_scheduler.step()`. See more details at https://pytorch.org/docs/stable/optim.html#how-to-adjust-learning-rate\n",
      "  \"https://pytorch.org/docs/stable/optim.html#how-to-adjust-learning-rate\", UserWarning)\n"
     ]
    },
    {
     "name": "stdout",
     "output_type": "stream",
     "text": [
      "Running loss: 0.356851"
     ]
    },
    {
     "name": "stderr",
     "output_type": "stream",
     "text": [
      "/users/grad/frahimi/.local/lib/python3.7/site-packages/torch/optim/lr_scheduler.py:231: UserWarning: To get the last learning rate computed by the scheduler, please use `get_last_lr()`.\n",
      "  warnings.warn(\"To get the last learning rate computed by the scheduler, \"\n"
     ]
    },
    {
     "name": "stdout",
     "output_type": "stream",
     "text": [
      "Running loss: 0.258582\n"
     ]
    },
    {
     "name": "stderr",
     "output_type": "stream",
     "text": [
      "/users/grad/frahimi/.local/lib/python3.7/site-packages/torch/optim/lr_scheduler.py:200: UserWarning: Please also save or load the state of the optimzer when saving or loading the scheduler.\n",
      "  warnings.warn(SAVE_STATE_WARNING, UserWarning)\n"
     ]
    },
    {
     "data": {
      "application/vnd.jupyter.widget-view+json": {
       "model_id": "e7dc81e38131467d820f91a7d76d143a",
       "version_major": 2,
       "version_minor": 0
      },
      "text/plain": [
       "HBox(children=(FloatProgress(value=0.0, description='Running Epoch 1', max=243.0, style=ProgressStyle(descript…"
      ]
     },
     "metadata": {},
     "output_type": "display_data"
    },
    {
     "name": "stdout",
     "output_type": "stream",
     "text": [
      "Running loss: 0.077621\n"
     ]
    },
    {
     "data": {
      "application/vnd.jupyter.widget-view+json": {
       "model_id": "36d947cf93064d4f8c68947f33ebbadd",
       "version_major": 2,
       "version_minor": 0
      },
      "text/plain": [
       "HBox(children=(FloatProgress(value=0.0, description='Running Epoch 2', max=243.0, style=ProgressStyle(descript…"
      ]
     },
     "metadata": {},
     "output_type": "display_data"
    },
    {
     "name": "stdout",
     "output_type": "stream",
     "text": [
      "Running loss: 0.077630Gradient overflow.  Skipping step, loss scaler 0 reducing loss scale to 32768.0\n",
      "Running loss: 0.025983\n"
     ]
    },
    {
     "data": {
      "application/vnd.jupyter.widget-view+json": {
       "model_id": "4dd5581f796247cdb3d446284b2af70e",
       "version_major": 2,
       "version_minor": 0
      },
      "text/plain": [
       "HBox(children=(FloatProgress(value=0.0, description='Running Epoch 3', max=243.0, style=ProgressStyle(descript…"
      ]
     },
     "metadata": {},
     "output_type": "display_data"
    },
    {
     "name": "stdout",
     "output_type": "stream",
     "text": [
      "Running loss: 0.004285\n"
     ]
    },
    {
     "data": {
      "application/vnd.jupyter.widget-view+json": {
       "model_id": "ae35817b86634c269a1e072a9f58290c",
       "version_major": 2,
       "version_minor": 0
      },
      "text/plain": [
       "HBox(children=(FloatProgress(value=0.0, description='Running Epoch 4', max=243.0, style=ProgressStyle(descript…"
      ]
     },
     "metadata": {},
     "output_type": "display_data"
    },
    {
     "name": "stdout",
     "output_type": "stream",
     "text": [
      "Running loss: 0.171198\n",
      "\n"
     ]
    },
    {
     "name": "stderr",
     "output_type": "stream",
     "text": [
      "INFO:simpletransformers.classification.classification_model: Training of roberta model complete. Saved to outputs/.\n"
     ]
    },
    {
     "data": {
      "application/vnd.jupyter.widget-view+json": {
       "model_id": "eb491533681c478fb72c00a3a7cc9e29",
       "version_major": 2,
       "version_minor": 0
      },
      "text/plain": [
       "HBox(children=(FloatProgress(value=0.0, max=485.0), HTML(value='')))"
      ]
     },
     "metadata": {},
     "output_type": "display_data"
    },
    {
     "name": "stdout",
     "output_type": "stream",
     "text": [
      "\n"
     ]
    },
    {
     "data": {
      "application/vnd.jupyter.widget-view+json": {
       "model_id": "8f840ed3c2f94685810faf231155697f",
       "version_major": 2,
       "version_minor": 0
      },
      "text/plain": [
       "HBox(children=(FloatProgress(value=0.0, description='Running Evaluation', max=61.0, style=ProgressStyle(descri…"
      ]
     },
     "metadata": {},
     "output_type": "display_data"
    },
    {
     "name": "stderr",
     "output_type": "stream",
     "text": [
      "INFO:simpletransformers.classification.classification_model: Converting to features started. Cache is not used.\n"
     ]
    },
    {
     "name": "stdout",
     "output_type": "stream",
     "text": [
      "\n"
     ]
    },
    {
     "data": {
      "application/vnd.jupyter.widget-view+json": {
       "model_id": "1ce313a09f244e499ffa326bac41594e",
       "version_major": 2,
       "version_minor": 0
      },
      "text/plain": [
       "HBox(children=(FloatProgress(value=0.0, max=485.0), HTML(value='')))"
      ]
     },
     "metadata": {},
     "output_type": "display_data"
    },
    {
     "name": "stdout",
     "output_type": "stream",
     "text": [
      "\n"
     ]
    },
    {
     "data": {
      "application/vnd.jupyter.widget-view+json": {
       "model_id": "57b9c657bab54f0fb0aa05a32c58cc4e",
       "version_major": 2,
       "version_minor": 0
      },
      "text/plain": [
       "HBox(children=(FloatProgress(value=0.0, max=61.0), HTML(value='')))"
      ]
     },
     "metadata": {},
     "output_type": "display_data"
    },
    {
     "name": "stdout",
     "output_type": "stream",
     "text": [
      "\n"
     ]
    }
   ],
   "source": [
    "from simpletransformers.classification import MultiLabelClassificationModel\n",
    "import pandas as pd\n",
    "import logging\n",
    "\n",
    "\n",
    "logging.basicConfig(level=logging.INFO)\n",
    "transformers_logger = logging.getLogger(\"transformers\")\n",
    "transformers_logger.setLevel(logging.WARNING)\n",
    "\n",
    "# Create a MultiLabelClassificationModel\n",
    "model = MultiLabelClassificationModel('roberta', 'roberta-base', num_labels=len(labels), args={'reprocess_input_data': True, 'overwrite_output_dir': True, 'num_train_epochs': 5})\n",
    "# You can set class weights by using the optional weight argument\n",
    "print(train_df.head())\n",
    "\n",
    "# Train the model\n",
    "model.train_model(train_df)\n",
    "\n",
    "# Evaluate the model\n",
    "result, model_outputs, wrong_predictions = model.eval_model(test_df)\n",
    "# print(result)\n",
    "# print(model_outputs)\n",
    "\n",
    "predictions, raw_outputs = model.predict(test_df['text'])\n",
    "# print(predictions)\n",
    "# print(raw_outputs)\n"
   ]
  },
  {
   "cell_type": "code",
   "execution_count": 9,
   "metadata": {},
   "outputs": [],
   "source": [
    "y_pred = predictions\n",
    "y_true = test_df['labels'].to_list()"
   ]
  },
  {
   "cell_type": "code",
   "execution_count": 10,
   "metadata": {},
   "outputs": [
    {
     "name": "stderr",
     "output_type": "stream",
     "text": [
      "INFO:numexpr.utils:Note: NumExpr detected 16 cores but \"NUMEXPR_MAX_THREADS\" not set, so enforcing safe limit of 8.\n",
      "INFO:numexpr.utils:NumExpr defaulting to 8 threads.\n"
     ]
    },
    {
     "name": "stdout",
     "output_type": "stream",
     "text": [
      "No Finding\n"
     ]
    },
    {
     "data": {
      "image/png": "[encoded data removed]",
      "text/plain": [
       "<Figure size 432x288 with 2 Axes>"
      ]
     },
     "metadata": {},
     "output_type": "display_data"
    },
    {
     "name": "stdout",
     "output_type": "stream",
     "text": [
      "Cardiomegaly\n"
     ]
    },
    {
     "data": {
      "image/png": "[encoded data removed]",
      "text/plain": [
       "<Figure size 432x288 with 2 Axes>"
      ]
     },
     "metadata": {},
     "output_type": "display_data"
    },
    {
     "name": "stdout",
     "output_type": "stream",
     "text": [
      "Lung Opacity\n"
     ]
    },
    {
     "data": {
      "image/png": "[encoded data removed]",
      "text/plain": [
       "<Figure size 432x288 with 2 Axes>"
      ]
     },
     "metadata": {},
     "output_type": "display_data"
    },
    {
     "name": "stdout",
     "output_type": "stream",
     "text": [
      "Edema\n"
     ]
    },
    {
     "data": {
      "image/png": "[encoded data removed]",
      "text/plain": [
       "<Figure size 432x288 with 2 Axes>"
      ]
     },
     "metadata": {},
     "output_type": "display_data"
    },
    {
     "name": "stdout",
     "output_type": "stream",
     "text": [
      "Consolidation\n"
     ]
    },
    {
     "data": {
      "image/png": "[encoded data removed]",
      "text/plain": [
       "<Figure size 432x288 with 2 Axes>"
      ]
     },
     "metadata": {},
     "output_type": "display_data"
    },
    {
     "name": "stdout",
     "output_type": "stream",
     "text": [
      "Pneumonia\n"
     ]
    },
    {
     "data": {
      "image/png": "[encoded data removed]",
      "text/plain": [
       "<Figure size 432x288 with 2 Axes>"
      ]
     },
     "metadata": {},
     "output_type": "display_data"
    },
    {
     "name": "stdout",
     "output_type": "stream",
     "text": [
      "Atelectasis\n"
     ]
    },
    {
     "data": {
      "image/png": "[encoded data removed]",
      "text/plain": [
       "<Figure size 432x288 with 2 Axes>"
      ]
     },
     "metadata": {},
     "output_type": "display_data"
    },
    {
     "name": "stdout",
     "output_type": "stream",
     "text": [
      "Pneumothorax\n"
     ]
    },
    {
     "data": {
      "image/png": "[encoded data removed]",
      "text/plain": [
       "<Figure size 432x288 with 2 Axes>"
      ]
     },
     "metadata": {},
     "output_type": "display_data"
    },
    {
     "name": "stdout",
     "output_type": "stream",
     "text": [
      "Pleural Effusion\n"
     ]
    },
    {
     "data": {
      "image/png": "[encoded data removed]",
      "text/plain": [
       "<Figure size 432x288 with 2 Axes>"
      ]
     },
     "metadata": {},
     "output_type": "display_data"
    },
    {
     "name": "stdout",
     "output_type": "stream",
     "text": [
      "Fracture\n"
     ]
    },
    {
     "data": {
      "image/png": "[encoded data removed]",
      "text/plain": [
       "<Figure size 432x288 with 2 Axes>"
      ]
     },
     "metadata": {},
     "output_type": "display_data"
    },
    {
     "name": "stdout",
     "output_type": "stream",
     "text": [
      "SupportDevices\n"
     ]
    },
    {
     "data": {
      "image/png": "[encoded data removed]",
      "text/plain": [
       "<Figure size 432x288 with 2 Axes>"
      ]
     },
     "metadata": {},
     "output_type": "display_data"
    }
   ],
   "source": [
    "cms = multilabel_confusion_matrix(y_true, y_pred)\n",
    "def plot_hm(label, conMat):\n",
    "\n",
    "    df_cm = pd.DataFrame(conMat, range(2), range(2))\n",
    "    # plt.figure(figsize=(10,7))\n",
    "    sn.set(font_scale=1.2) # for label size\n",
    "    sn.heatmap(df_cm, annot=True, annot_kws={\"size\": 12}, cmap=\"YlGnBu\", fmt=\"d\") # font size\n",
    "    plt.show()\n",
    "\n",
    "for cm,label in zip(cms, labels):\n",
    "    print(label)\n",
    "#     print(cm)\n",
    "    plot_hm(label, cm)"
   ]
  },
  {
   "cell_type": "code",
   "execution_count": 11,
   "metadata": {},
   "outputs": [
    {
     "name": "stdout",
     "output_type": "stream",
     "text": [
      "              precision    recall  f1-score   support\n",
      "\n",
      "           0       1.00      0.98      0.99       276\n",
      "           1       0.99      0.99      0.99        74\n",
      "           2       0.96      0.95      0.96        82\n",
      "           3       0.50      0.09      0.15        11\n",
      "           4       0.00      0.00      0.00         7\n",
      "           5       1.00      0.29      0.44         7\n",
      "           6       0.95      0.88      0.91        66\n",
      "           7       0.00      0.00      0.00         4\n",
      "           8       1.00      0.90      0.95        31\n",
      "           9       0.89      0.84      0.86        19\n",
      "          10       0.86      0.75      0.80        16\n",
      "\n",
      "   micro avg       0.98      0.91      0.94       593\n",
      "   macro avg       0.74      0.61      0.64       593\n",
      "weighted avg       0.95      0.91      0.92       593\n",
      " samples avg       0.96      0.94      0.94       593\n",
      "\n"
     ]
    },
    {
     "name": "stderr",
     "output_type": "stream",
     "text": [
      "/local/pkg/python/root-python-3.7/lib/python3.7/site-packages/sklearn/metrics/_classification.py:1272: UndefinedMetricWarning: Precision and F-score are ill-defined and being set to 0.0 in labels with no predicted samples. Use `zero_division` parameter to control this behavior.\n",
      "  _warn_prf(average, modifier, msg_start, len(result))\n",
      "/local/pkg/python/root-python-3.7/lib/python3.7/site-packages/sklearn/metrics/_classification.py:1272: UndefinedMetricWarning: Precision and F-score are ill-defined and being set to 0.0 in samples with no predicted labels. Use `zero_division` parameter to control this behavior.\n",
      "  _warn_prf(average, modifier, msg_start, len(result))\n"
     ]
    }
   ],
   "source": [
    "from sklearn.metrics import classification_report\n",
    "print(classification_report(y_true, y_pred))"
   ]
  },
  {
   "cell_type": "markdown",
   "metadata": {},
   "source": [
    "# Hugging Face implementation"
   ]
  },
  {
   "cell_type": "code",
   "execution_count": null,
   "metadata": {},
   "outputs": [],
   "source": [
    "# from transformers import BertTokenizer, BertForSequenceClassification\n",
    "# import torch\n",
    "\n",
    "# tokenizer = BertTokenizer.from_pretrained('bert-base-uncased')\n",
    "# model = BertForSequenceClassification.from_pretrained('bert-base-uncased')\n",
    "\n",
    "# input_ids = torch.tensor(tokenizer.encode(\"Hello, my dog is cute\", add_special_tokens=True)).unsqueeze(0)  # Batch size 1\n",
    "# labels = torch.tensor([1]).unsqueeze(0)  # Batch size 1\n",
    "# outputs = model(input_ids, labels=labels)\n",
    "\n",
    "# loss, logits = outputs[:2]"
   ]
  },
  {
   "cell_type": "code",
   "execution_count": null,
   "metadata": {},
   "outputs": [],
   "source": [
    "# # From Transformers: https://huggingface.co/transformers/_modules/transformers/modeling_bert.html#BertForSequenceClassification\n",
    "# from torch.nn import BCEWithLogitsLoss\n",
    "# class BertForMultiLabelClassification(BertPreTrainedModel):\n",
    "#     def __init__(self, config):\n",
    "#         super().__init__(config)\n",
    "#         self.num_labels = config.num_labels\n",
    "\n",
    "#         self.bert = BertModel(config)\n",
    "#         self.dropout = nn.Dropout(config.hidden_dropout_prob)\n",
    "#         self.classifier = nn.Linear(config.hidden_size, config.num_labels)\n",
    "\n",
    "#         self.init_weights()\n",
    "\n",
    "# [docs]\n",
    "#     @add_start_docstrings_to_callable(BERT_INPUTS_DOCSTRING.format(\"(batch_size, sequence_length)\"))\n",
    "#     def forward(\n",
    "#         self,\n",
    "#         input_ids=None,\n",
    "#         attention_mask=None,\n",
    "#         token_type_ids=None,\n",
    "#         position_ids=None,\n",
    "#         head_mask=None,\n",
    "#         inputs_embeds=None,\n",
    "#         labels=None,\n",
    "#     ):\n",
    "\n",
    "\n",
    "#         outputs = self.bert(\n",
    "#             input_ids,\n",
    "#             attention_mask=attention_mask,\n",
    "#             token_type_ids=token_type_ids,\n",
    "#             position_ids=position_ids,\n",
    "#             head_mask=head_mask,\n",
    "#             inputs_embeds=inputs_embeds,\n",
    "#         )\n",
    "\n",
    "#         pooled_output = outputs[1]\n",
    "\n",
    "#         pooled_output = self.dropout(pooled_output)\n",
    "#         logits = self.classifier(pooled_output)\n",
    "\n",
    "#         outputs = (logits,) + outputs[2:]  # add hidden states and attention if they are here\n",
    "\n",
    "#         if labels is not None:\n",
    "#             if self.num_labels == 1:\n",
    "#                 #  We are doing regression\n",
    "#                 loss_fct = MSELoss()\n",
    "#                 loss = loss_fct(logits.view(-1), labels.view(-1))\n",
    "#             else:\n",
    "# #                 loss_fct = CrossEntropyLoss()\n",
    "#                 loss_fct = BCEWithLogitsLoss()\n",
    "#                 loss = loss_fct(logits.view(-1, self.num_labels), labels.view(-1))\n",
    "#             outputs = (loss,) + outputs\n",
    "\n",
    "#         return outputs  # (loss), logits, (hidden_states), (attentions)"
   ]
  },
  {
   "cell_type": "code",
   "execution_count": null,
   "metadata": {},
   "outputs": [],
   "source": []
  }
 ],
 "metadata": {
  "kernelspec": {
   "display_name": "Python 3",
   "language": "python",
   "name": "python3"
  },
  "language_info": {
   "codemirror_mode": {
    "name": "ipython",
    "version": 3
   },
   "file_extension": ".py",
   "mimetype": "text/x-python",
   "name": "python",
   "nbconvert_exporter": "python",
   "pygments_lexer": "ipython3",
   "version": "3.7.6"
  }
 },
 "nbformat": 4,
 "nbformat_minor": 4
}
