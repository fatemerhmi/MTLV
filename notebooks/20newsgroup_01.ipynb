{
 "metadata": {
  "language_info": {
   "codemirror_mode": {
    "name": "ipython",
    "version": 3
   },
   "file_extension": ".py",
   "mimetype": "text/x-python",
   "name": "python",
   "nbconvert_exporter": "python",
   "pygments_lexer": "ipython3",
   "version": "3.7.6-final"
  },
  "orig_nbformat": 2,
  "kernelspec": {
   "name": "python_defaultSpec_1598530368571",
   "display_name": "Python 3.7.6 64-bit"
  }
 },
 "nbformat": 4,
 "nbformat_minor": 2,
 "cells": [
  {
   "cell_type": "code",
   "execution_count": 2,
   "metadata": {
    "tags": []
   },
   "outputs": [],
   "source": [
    "import os\n",
    "import pandas as pd \n",
    "\n",
    "df = pd.DataFrame(columns=['category', 'count'])\n",
    "path = '../data/20news-bydate/20news-bydate-train'\n",
    "files = os.listdir(path)\n",
    "for f in files:\n",
    "    # print(f)\n",
    "    # print(path+'/'+f)\n",
    "    category_files = os.listdir(path+'/'+f)\n",
    "    # print(len(category_files))\n",
    "    df = df.append({'category': f, 'count': len(category_files)}, ignore_index=True)"
   ]
  },
  {
   "cell_type": "code",
   "execution_count": 4,
   "metadata": {},
   "outputs": [
    {
     "output_type": "execute_result",
     "data": {
      "text/plain": "11314"
     },
     "metadata": {},
     "execution_count": 4
    }
   ],
   "source": [
    "df['count'].sum()"
   ]
  },
  {
   "cell_type": "code",
   "execution_count": 19,
   "metadata": {
    "tags": []
   },
   "outputs": [
    {
     "output_type": "stream",
     "name": "stdout",
     "text": "\\begin{tabular}{ll}\n\\toprule\n                 category & count \\\\\n\\midrule\n       talk.religion.misc &   377 \\\\\n       talk.politics.misc &   465 \\\\\n              alt.atheism &   480 \\\\\n       talk.politics.guns &   546 \\\\\n    talk.politics.mideast &   564 \\\\\n    comp.sys.mac.hardware &   578 \\\\\n            comp.graphics &   584 \\\\\n             misc.forsale &   585 \\\\\n comp.sys.ibm.pc.hardware &   590 \\\\\n  comp.os.ms-windows.misc &   591 \\\\\n          sci.electronics &   591 \\\\\n                sci.space &   593 \\\\\n           comp.windows.x &   593 \\\\\n                rec.autos &   594 \\\\\n                  sci.med &   594 \\\\\n                sci.crypt &   595 \\\\\n       rec.sport.baseball &   597 \\\\\n          rec.motorcycles &   598 \\\\\n   soc.religion.christian &   599 \\\\\n         rec.sport.hockey &   600 \\\\\n\\bottomrule\n\\end{tabular}\n\n"
    }
   ],
   "source": [
    "print(df.sort_values(by=['count']).to_latex(index=False))"
   ]
  },
  {
   "cell_type": "code",
   "execution_count": null,
   "metadata": {},
   "outputs": [],
   "source": []
  }
 ]
}