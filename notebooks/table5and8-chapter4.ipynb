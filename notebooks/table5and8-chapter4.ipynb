{
 "metadata": {
  "language_info": {
   "codemirror_mode": {
    "name": "ipython",
    "version": 3
   },
   "file_extension": ".py",
   "mimetype": "text/x-python",
   "name": "python",
   "nbconvert_exporter": "python",
   "pygments_lexer": "ipython3",
   "version": "3.7.6"
  },
  "orig_nbformat": 2,
  "kernelspec": {
   "name": "python3",
   "display_name": "Python 3.7.6  ('.env': venv)",
   "metadata": {
    "interpreter": {
     "hash": "385cefc4c1179ee2c2782d18ced429b53646e7498e5533e43b1817da944111ce"
    }
   }
  }
 },
 "nbformat": 4,
 "nbformat_minor": 2,
 "cells": [
  {
   "cell_type": "code",
   "execution_count": 9,
   "metadata": {},
   "outputs": [
    {
     "output_type": "stream",
     "name": "stdout",
     "text": [
      "../mlruns/2/aaf22b68231f4f30abaf48963c30f0c5/tags/TTEST_BioBERT\nTTEST_BioBERT\n../mlruns/2/89922d08fcb7410eb05a4e1e16cf9e3c/tags/TTEST_BlueBERT\nTTEST_BlueBERT\n../mlruns/2/3ffd6cc084f04ceaacc6112da6f278a2/tags/TTEST_bertuncased\nTTEST_bertuncased\n../mlruns/2/41dfea55249f4264988a3d632015abee/tags/TTEST_BioBERT\nTTEST_BioBERT\n../mlruns/2/1d7533e948cf4e6289725fad4ab9ad1f/tags/TTEST_BioBERT\nTTEST_BioBERT\nFound it!\n====================fold 1====================\n[report] cls_report.Fold12021-03-27 11:06:21.925478.txt added to GMTL\n[report] cls_report.Fold12021-03-27 10:25:35.119512.txt added to MTL\n====================fold 2====================\n[report] cls_report.Fold22021-03-27 11:55:47.402520.txt added to GMTL\n[report] cls_report.Fold22021-03-27 11:15:24.216188.txt added to MTL\n====================fold 3====================\n[report] cls_report.Fold32021-03-27 12:45:19.865868.txt added to GMTL\n[report] cls_report.Fold32021-03-27 12:04:47.585014.txt added to MTL\n====================fold 4====================\n[report] cls_report.Fold42021-03-27 13:34:51.351637.txt added to GMTL\n[report] cls_report.Fold42021-03-27 12:54:23.795743.txt added to MTL\n====================fold 5====================\n[report] cls_report.Fold52021-03-27 14:24:36.236507.txt added to GMTL\n[report] cls_report.Fold52021-03-27 13:43:53.065925.txt added to MTL\n====================fold 6====================\n[report] cls_report.Fold62021-03-27 15:14:03.616904.txt added to GMTL\n[report] cls_report.Fold62021-03-27 14:33:37.378795.txt added to MTL\n====================fold 7====================\n[report] cls_report.Fold72021-03-27 16:03:33.488360.txt added to GMTL\n[report] cls_report.Fold72021-03-27 15:23:05.486987.txt added to MTL\n====================fold 8====================\n[report] cls_report.Fold82021-03-27 16:53:48.579754.txt added to GMTL\n[report] cls_report.Fold82021-03-27 16:13:13.102723.txt added to MTL\n====================fold 9====================\n[report] cls_report.Fold92021-03-27 17:43:22.352949.txt added to GMTL\n[report] cls_report.Fold92021-03-27 17:02:51.861130.txt added to MTL\n====================fold 10====================\n[report] cls_report.Fold102021-03-27 18:32:47.186596.txt added to GMTL\n[report] cls_report.Fold102021-03-27 17:52:23.801025.txt added to MTL\ntotal= 2284\ntotal= 2284\nDone\n"
     ]
    }
   ],
   "source": [
    "import pandas as pd\n",
    "import os\n",
    "from os import listdir\n",
    "from os.path import isfile, join, isdir\n",
    "import yaml\n",
    "import datetime\n",
    "\n",
    "def get_fold_datetimes_lists(list_of_artifacts_txt):\n",
    "    list_of_fold = []\n",
    "    list_of_datetimes = []\n",
    "    for artifact in list_of_artifacts_txt:\n",
    "        # print(artifact)\n",
    "        index = artifact.find(\"2021\")\n",
    "        index2 = artifact.find(\"Fold\")\n",
    "        fold = int(artifact[index2+4:index])\n",
    "        date_time_str = artifact[index:-4]\n",
    "        date_time_obj = datetime.datetime.strptime(date_time_str, '%Y-%m-%d %H:%M:%S.%f')\n",
    "        # print(f\"fold = {fold}, date_time = {date_time_obj}\")\n",
    "        list_of_fold.append(fold)\n",
    "        list_of_datetimes.append(date_time_obj)\n",
    "    return list_of_fold, list_of_datetimes\n",
    "\n",
    "def get_fold_index(list_of_fold, fold):\n",
    "    indices = [i for i, x in enumerate(list_of_fold) if x == fold]\n",
    "    return indices\n",
    "\n",
    "def get_report_df(report_path):\n",
    "    df = pd.read_csv(report_path, delimiter = r\"\\s{2,}\", engine=\"python\")\n",
    "    df.drop(['micro avg', 'macro avg', 'weighted avg', 'samples avg'], inplace=True)\n",
    "    df['class']= df.index\n",
    "    df.drop(columns = [\"precision\",\"recall\"], inplace=True)\n",
    "    df.reset_index(drop=True, inplace=True)\n",
    "    return df\n",
    "\n",
    "def compare_dates_and_store_reports_to_df(indices, list_of_datetimes, df_GMTL, df_MTL):\n",
    "    if list_of_datetimes[indices[0]] < list_of_datetimes[indices[1]]:\n",
    "        MTL_index, GMTL_index = 0, 1\n",
    "    else:\n",
    "        MTL_index, GMTL_index = 1, 0\n",
    "\n",
    "    # GMTL\n",
    "    report_path = f\"{ARTIFACT_DIR}/{list_of_artifacts_txt[indices[GMTL_index]]}\"\n",
    "    if df_GMTL.empty:\n",
    "        df_GMTL = get_report_df(report_path)\n",
    "    else:\n",
    "        df_GMTL = df_GMTL.append(get_report_df(report_path))\n",
    "    print(f\"[report] {list_of_artifacts_txt[indices[GMTL_index]]} added to GMTL\")\n",
    "    \n",
    "    # MTL\n",
    "    report_path = f\"{ARTIFACT_DIR}/{list_of_artifacts_txt[indices[MTL_index]]}\"\n",
    "    if df_MTL.empty:\n",
    "        df_MTL = get_report_df(report_path)\n",
    "    else:\n",
    "        df_MTL = df_MTL.append(get_report_df(report_path))\n",
    "    print(f\"[report] {list_of_artifacts_txt[indices[MTL_index]]} added to MTL\")\n",
    "    \n",
    "    return df_GMTL, df_MTL\n",
    "\n",
    "def make_f1_table(df_GMTL, name):\n",
    "    df_GMTL_mean = df_GMTL.groupby(['class']).mean().add_suffix('_mean').reset_index()\n",
    "    df_GMTL_std = df_GMTL.groupby(['class']).std().add_suffix('_std').reset_index().drop(columns=['class', 'support_std'])\n",
    "\n",
    "    result = pd.concat([df_GMTL_mean, df_GMTL_std], axis=1)\n",
    "    #${79.86\\pm4.16}$\n",
    "    result[f'f1-score({name})'] = result.apply(lambda row: f\"${{{round(row['f1-score_mean']*100,2)}\\pm{round(row['f1-score_std']*100,2)}}}$\", axis=1)\n",
    "    total = result.support_mean.sum()\n",
    "    print(\"total=\", total)\n",
    "    result['count(%)'] = result.support_mean.apply(lambda x : f\"{x}({round((x/total)*100,1)})\")\n",
    "    result.drop(columns = ['f1-score_mean', 'f1-score_std', 'support_mean'], inplace = True)\n",
    "    return result\n",
    "\n",
    "# DIR_TO_CHECK = \"../mlruns/1\"\n",
    "DIR_TO_CHECK = \"../mlruns/2\"\n",
    "\n",
    "runs = [f for f in listdir(DIR_TO_CHECK) if isdir(join(DIR_TO_CHECK, f))]\n",
    "TTEST_DIR = []\n",
    "for DIR in runs:\n",
    "    run_dir = f\"{DIR_TO_CHECK}/{DIR}\"\n",
    "        # print(run_dir)\n",
    "    f = open(f\"{run_dir}/tags/mlflow.runName\", \"r\")\n",
    "    runname = f.readline()\n",
    "    # print(runname[:5])\n",
    "    if runname[:5] == 'TTEST':\n",
    "        print(f\"{run_dir}/tags/{runname}\")\n",
    "        print(runname)\n",
    "        if runname == \"TTEST_BioBERT\" and DIR == \"1d7533e948cf4e6289725fad4ab9ad1f\":\n",
    "        # if runname != \"TTEST_BlueBERT\":\n",
    "        \n",
    "            print(\"Found it!\")\n",
    "        else:\n",
    "            continue\n",
    "    else:\n",
    "        continue\n",
    "    ARTIFACT_DIR = f\"{run_dir}/artifacts\"\n",
    "    list_of_artifacts_txt = [f for f in listdir(ARTIFACT_DIR) if isfile(join(ARTIFACT_DIR, f))]\n",
    "\n",
    "    list_of_fold, list_of_datetimes = get_fold_datetimes_lists(list_of_artifacts_txt)\n",
    "    \n",
    "    latex_table = pd.DataFrame(columns=['class name', 'GMTL (f1-score)', 'MTL (f1-score)', 'count(%)'])\n",
    "\n",
    "    df_GMTL, df_MTL = pd.DataFrame(), pd.DataFrame()\n",
    "    for fold_i in range(1,11):\n",
    "        #MTL is the first one, GMTL is the second one\n",
    "        print(f\"====================fold {fold_i}====================\")\n",
    "        indices = get_fold_index(list_of_fold, fold_i)\n",
    "\n",
    "        df_GMTL, df_MTL = compare_dates_and_store_reports_to_df(indices, list_of_datetimes, df_GMTL, df_MTL)\n",
    "\n",
    "    #-----now we have all the reports in df_GMTL and df_MTL\n",
    "    result1 = make_f1_table(df_GMTL, \"GMTL\")\n",
    "    result1.drop(columns=['count(%)'], inplace= True)\n",
    "    result2 = make_f1_table(df_MTL, \"MTL\")\n",
    "    result2.drop(columns=['class', ], inplace= True)\n",
    "    result = pd.concat([result1, result2], axis=1)\n",
    "    print(\"Done\")\n",
    "    break\n"
   ]
  },
  {
   "cell_type": "code",
   "execution_count": 10,
   "metadata": {},
   "outputs": [
    {
     "output_type": "stream",
     "name": "stdout",
     "text": [
      "\\begin{tabular}{llll}\n\\toprule\nclass &  f1-score(GMTL) &   f1-score(MTL) &  count(\\%) \\\\\n\\midrule\n  C01 & \\$\\{79.5\\textbackslash pm1.35\\}\\$ & \\$\\{79.5\\textbackslash pm2.42\\}\\$ &  102(4.5) \\\\\n  C02 &  \\$\\{62.6\\textbackslash pm5.4\\}\\$ &  \\$\\{53.7\\textbackslash pm4.0\\}\\$ &   47(2.1) \\\\\n  C03 & \\$\\{92.0\\textbackslash pm2.94\\}\\$ & \\$\\{87.9\\textbackslash pm5.11\\}\\$ &   17(0.7) \\\\\n  C04 & \\$\\{82.4\\textbackslash pm1.51\\}\\$ &  \\$\\{84.9\\textbackslash pm1.1\\}\\$ & 253(11.1) \\\\\n  C05 & \\$\\{64.1\\textbackslash pm2.92\\}\\$ & \\$\\{65.0\\textbackslash pm2.75\\}\\$ &   67(2.9) \\\\\n  C06 & \\$\\{78.2\\textbackslash pm1.14\\}\\$ & \\$\\{78.9\\textbackslash pm1.66\\}\\$ &  120(5.3) \\\\\n  C07 & \\$\\{75.8\\textbackslash pm3.79\\}\\$ & \\$\\{70.3\\textbackslash pm4.03\\}\\$ &   21(0.9) \\\\\n  C08 & \\$\\{73.3\\textbackslash pm3.02\\}\\$ & \\$\\{72.7\\textbackslash pm2.11\\}\\$ &  104(4.6) \\\\\n  C09 & \\$\\{72.4\\textbackslash pm2.67\\}\\$ & \\$\\{73.7\\textbackslash pm3.53\\}\\$ &   29(1.3) \\\\\n  C10 & \\$\\{68.2\\textbackslash pm2.04\\}\\$ & \\$\\{68.2\\textbackslash pm1.32\\}\\$ &  154(6.7) \\\\\n  C11 & \\$\\{74.4\\textbackslash pm1.65\\}\\$ & \\$\\{77.2\\textbackslash pm1.75\\}\\$ &   40(1.8) \\\\\n  C12 & \\$\\{80.7\\textbackslash pm1.06\\}\\$ & \\$\\{82.4\\textbackslash pm1.65\\}\\$ &  101(4.4) \\\\\n  C13 & \\$\\{78.4\\textbackslash pm2.22\\}\\$ & \\$\\{79.4\\textbackslash pm2.32\\}\\$ &   65(2.8) \\\\\n  C14 & \\$\\{82.7\\textbackslash pm1.06\\}\\$ & \\$\\{84.0\\textbackslash pm1.33\\}\\$ & 244(10.7) \\\\\n  C15 & \\$\\{63.6\\textbackslash pm1.71\\}\\$ & \\$\\{65.1\\textbackslash pm3.31\\}\\$ &   51(2.2) \\\\\n  C16 & \\$\\{58.0\\textbackslash pm2.75\\}\\$ & \\$\\{59.7\\textbackslash pm2.58\\}\\$ &   43(1.9) \\\\\n  C17 & \\$\\{68.7\\textbackslash pm1.83\\}\\$ & \\$\\{70.3\\textbackslash pm2.95\\}\\$ &   65(2.8) \\\\\n  C18 & \\$\\{77.0\\textbackslash pm2.31\\}\\$ &  \\$\\{78.7\\textbackslash pm3.2\\}\\$ &   77(3.4) \\\\\n  C19 & \\$\\{58.3\\textbackslash pm3.56\\}\\$ & \\$\\{63.4\\textbackslash pm3.57\\}\\$ &   35(1.5) \\\\\n  C20 & \\$\\{75.5\\textbackslash pm2.01\\}\\$ & \\$\\{75.8\\textbackslash pm1.55\\}\\$ &  125(5.5) \\\\\n  C21 & \\$\\{75.1\\textbackslash pm2.02\\}\\$ & \\$\\{76.4\\textbackslash pm1.96\\}\\$ &  117(5.1) \\\\\n  C22 & \\$\\{37.4\\textbackslash pm6.47\\}\\$ &  \\$\\{0.8\\textbackslash pm2.53\\}\\$ &   23(1.0) \\\\\n  C23 &  \\$\\{55.6\\textbackslash pm4.5\\}\\$ & \\$\\{46.1\\textbackslash pm6.24\\}\\$ & 384(16.8) \\\\\n\\bottomrule\n\\end{tabular}\n\n"
     ]
    }
   ],
   "source": [
    "print(result.to_latex(index=False))"
   ]
  },
  {
   "cell_type": "code",
   "execution_count": 185,
   "metadata": {},
   "outputs": [
    {
     "output_type": "stream",
     "name": "stdout",
     "text": [
      "\\begin{tabular}{llll}\n\\toprule\nclass &  f1-score(GMTL) &   f1-score(MTL) &  count(\\%) \\\\\n\\midrule\n  C01 & \\$\\{80.1\\textbackslash pm1.37\\}\\$ & \\$\\{76.4\\textbackslash pm3.37\\}\\$ &  102(4.5) \\\\\n  C02 & \\$\\{64.2\\textbackslash pm6.68\\}\\$ & \\$\\{57.9\\textbackslash pm4.48\\}\\$ &   47(2.1) \\\\\n  C03 & \\$\\{91.5\\textbackslash pm3.34\\}\\$ & \\$\\{89.6\\textbackslash pm3.86\\}\\$ &   17(0.7) \\\\\n  C04 & \\$\\{82.9\\textbackslash pm1.97\\}\\$ & \\$\\{84.4\\textbackslash pm0.97\\}\\$ & 253(11.1) \\\\\n  C05 & \\$\\{63.6\\textbackslash pm2.91\\}\\$ & \\$\\{65.8\\textbackslash pm2.25\\}\\$ &   67(2.9) \\\\\n  C06 & \\$\\{77.7\\textbackslash pm1.34\\}\\$ & \\$\\{79.0\\textbackslash pm1.76\\}\\$ &  120(5.3) \\\\\n  C07 & \\$\\{77.0\\textbackslash pm4.27\\}\\$ & \\$\\{72.8\\textbackslash pm3.39\\}\\$ &   21(0.9) \\\\\n  C08 & \\$\\{72.5\\textbackslash pm2.59\\}\\$ & \\$\\{73.4\\textbackslash pm2.37\\}\\$ &  104(4.6) \\\\\n  C09 & \\$\\{73.4\\textbackslash pm4.06\\}\\$ & \\$\\{73.2\\textbackslash pm2.25\\}\\$ &   29(1.3) \\\\\n  C10 & \\$\\{68.5\\textbackslash pm1.27\\}\\$ &  \\$\\{68.3\\textbackslash pm1.7\\}\\$ &  154(6.7) \\\\\n  C11 & \\$\\{73.9\\textbackslash pm4.01\\}\\$ & \\$\\{75.5\\textbackslash pm1.35\\}\\$ &   40(1.8) \\\\\n  C12 & \\$\\{81.9\\textbackslash pm1.66\\}\\$ & \\$\\{82.3\\textbackslash pm1.34\\}\\$ &  101(4.4) \\\\\n  C13 & \\$\\{77.1\\textbackslash pm2.13\\}\\$ & \\$\\{78.9\\textbackslash pm1.66\\}\\$ &   65(2.8) \\\\\n  C14 & \\$\\{82.7\\textbackslash pm1.34\\}\\$ & \\$\\{84.2\\textbackslash pm1.03\\}\\$ & 244(10.7) \\\\\n  C15 & \\$\\{63.0\\textbackslash pm3.09\\}\\$ & \\$\\{64.8\\textbackslash pm3.61\\}\\$ &   51(2.2) \\\\\n  C16 & \\$\\{59.4\\textbackslash pm4.06\\}\\$ & \\$\\{58.8\\textbackslash pm3.49\\}\\$ &   43(1.9) \\\\\n  C17 & \\$\\{69.8\\textbackslash pm2.66\\}\\$ & \\$\\{69.2\\textbackslash pm2.15\\}\\$ &   65(2.8) \\\\\n  C18 & \\$\\{77.6\\textbackslash pm3.06\\}\\$ & \\$\\{78.7\\textbackslash pm3.16\\}\\$ &   77(3.4) \\\\\n  C19 & \\$\\{60.9\\textbackslash pm2.64\\}\\$ & \\$\\{63.1\\textbackslash pm4.58\\}\\$ &   35(1.5) \\\\\n  C20 & \\$\\{75.2\\textbackslash pm3.08\\}\\$ & \\$\\{75.5\\textbackslash pm1.08\\}\\$ &  125(5.5) \\\\\n  C21 &  \\$\\{75.1\\textbackslash pm1.1\\}\\$ & \\$\\{75.2\\textbackslash pm1.75\\}\\$ &  117(5.1) \\\\\n  C22 & \\$\\{36.0\\textbackslash pm9.44\\}\\$ &   \\$\\{0.0\\textbackslash pm0.0\\}\\$ &   23(1.0) \\\\\n  C23 & \\$\\{54.6\\textbackslash pm3.34\\}\\$ & \\$\\{48.5\\textbackslash pm3.63\\}\\$ & 384(16.8) \\\\\n\\bottomrule\n\\end{tabular}\n\n"
     ]
    }
   ],
   "source": [
    "print(result.to_latex(index=False))"
   ]
  },
  {
   "cell_type": "code",
   "execution_count": 144,
   "metadata": {},
   "outputs": [
    {
     "output_type": "execute_result",
     "data": {
      "text/plain": [
       "    precision  recall  f1-score  support                            class\n",
       "0        0.94    0.97      0.95       75                     Cardiomegaly\n",
       "1        0.94    0.65      0.77       23                        Deformity\n",
       "2        1.00    0.95      0.98       22                           Nodule\n",
       "3        0.95    0.95      0.95       22            granulomatous disease\n",
       "4        1.00    1.00      1.00       35               spine degenerative\n",
       "5        0.91    0.94      0.93       33                         Effusion\n",
       "6        0.84    0.81      0.82       26                   Medical Device\n",
       "7        0.87    0.80      0.83       25             indwelling catheters\n",
       "8        0.98    0.98      0.98       91                          opacity\n",
       "9        0.92    0.96      0.94       25                 Airspace Disease\n",
       "10       0.93    1.00      0.96       66                      Atelectasis\n",
       "11       0.95    0.90      0.93       21                        Emphysema\n",
       "12       0.95    0.98      0.96       41             lung hyperdistention\n",
       "13       0.92    0.98      0.95       56               lung hypoinflation\n",
       "14       0.98    1.00      0.99       55              Calcified granuloma\n",
       "15       0.94    0.98      0.96       61                       Calcinosis\n",
       "16       0.91    0.93      0.92       42                         Cicatrix\n",
       "17       0.83    0.95      0.89       21              surgical instrument\n",
       "18       1.00    0.92      0.96       53  thoracic vertebrae degenerative"
      ],
      "text/html": "<div>\n<style scoped>\n    .dataframe tbody tr th:only-of-type {\n        vertical-align: middle;\n    }\n\n    .dataframe tbody tr th {\n        vertical-align: top;\n    }\n\n    .dataframe thead th {\n        text-align: right;\n    }\n</style>\n<table border=\"1\" class=\"dataframe\">\n  <thead>\n    <tr style=\"text-align: right;\">\n      <th></th>\n      <th>precision</th>\n      <th>recall</th>\n      <th>f1-score</th>\n      <th>support</th>\n      <th>class</th>\n    </tr>\n  </thead>\n  <tbody>\n    <tr>\n      <th>0</th>\n      <td>0.94</td>\n      <td>0.97</td>\n      <td>0.95</td>\n      <td>75</td>\n      <td>Cardiomegaly</td>\n    </tr>\n    <tr>\n      <th>1</th>\n      <td>0.94</td>\n      <td>0.65</td>\n      <td>0.77</td>\n      <td>23</td>\n      <td>Deformity</td>\n    </tr>\n    <tr>\n      <th>2</th>\n      <td>1.00</td>\n      <td>0.95</td>\n      <td>0.98</td>\n      <td>22</td>\n      <td>Nodule</td>\n    </tr>\n    <tr>\n      <th>3</th>\n      <td>0.95</td>\n      <td>0.95</td>\n      <td>0.95</td>\n      <td>22</td>\n      <td>granulomatous disease</td>\n    </tr>\n    <tr>\n      <th>4</th>\n      <td>1.00</td>\n      <td>1.00</td>\n      <td>1.00</td>\n      <td>35</td>\n      <td>spine degenerative</td>\n    </tr>\n    <tr>\n      <th>5</th>\n      <td>0.91</td>\n      <td>0.94</td>\n      <td>0.93</td>\n      <td>33</td>\n      <td>Effusion</td>\n    </tr>\n    <tr>\n      <th>6</th>\n      <td>0.84</td>\n      <td>0.81</td>\n      <td>0.82</td>\n      <td>26</td>\n      <td>Medical Device</td>\n    </tr>\n    <tr>\n      <th>7</th>\n      <td>0.87</td>\n      <td>0.80</td>\n      <td>0.83</td>\n      <td>25</td>\n      <td>indwelling catheters</td>\n    </tr>\n    <tr>\n      <th>8</th>\n      <td>0.98</td>\n      <td>0.98</td>\n      <td>0.98</td>\n      <td>91</td>\n      <td>opacity</td>\n    </tr>\n    <tr>\n      <th>9</th>\n      <td>0.92</td>\n      <td>0.96</td>\n      <td>0.94</td>\n      <td>25</td>\n      <td>Airspace Disease</td>\n    </tr>\n    <tr>\n      <th>10</th>\n      <td>0.93</td>\n      <td>1.00</td>\n      <td>0.96</td>\n      <td>66</td>\n      <td>Atelectasis</td>\n    </tr>\n    <tr>\n      <th>11</th>\n      <td>0.95</td>\n      <td>0.90</td>\n      <td>0.93</td>\n      <td>21</td>\n      <td>Emphysema</td>\n    </tr>\n    <tr>\n      <th>12</th>\n      <td>0.95</td>\n      <td>0.98</td>\n      <td>0.96</td>\n      <td>41</td>\n      <td>lung hyperdistention</td>\n    </tr>\n    <tr>\n      <th>13</th>\n      <td>0.92</td>\n      <td>0.98</td>\n      <td>0.95</td>\n      <td>56</td>\n      <td>lung hypoinflation</td>\n    </tr>\n    <tr>\n      <th>14</th>\n      <td>0.98</td>\n      <td>1.00</td>\n      <td>0.99</td>\n      <td>55</td>\n      <td>Calcified granuloma</td>\n    </tr>\n    <tr>\n      <th>15</th>\n      <td>0.94</td>\n      <td>0.98</td>\n      <td>0.96</td>\n      <td>61</td>\n      <td>Calcinosis</td>\n    </tr>\n    <tr>\n      <th>16</th>\n      <td>0.91</td>\n      <td>0.93</td>\n      <td>0.92</td>\n      <td>42</td>\n      <td>Cicatrix</td>\n    </tr>\n    <tr>\n      <th>17</th>\n      <td>0.83</td>\n      <td>0.95</td>\n      <td>0.89</td>\n      <td>21</td>\n      <td>surgical instrument</td>\n    </tr>\n    <tr>\n      <th>18</th>\n      <td>1.00</td>\n      <td>0.92</td>\n      <td>0.96</td>\n      <td>53</td>\n      <td>thoracic vertebrae degenerative</td>\n    </tr>\n  </tbody>\n</table>\n</div>"
     },
     "metadata": {},
     "execution_count": 144
    }
   ],
   "source": [
    "df = pd.read_csv(\"../mlruns/1/def5404d07d74bf38ae849f78423c7b2/artifacts/cls_report.Fold12021-03-21 23:00:06.434145.txt\", delimiter = r\"\\s{2,}\", engine=\"python\")\n",
    "df.drop(['micro avg', 'macro avg', 'weighted avg', 'samples avg'], inplace=True)\n",
    "df['class']= df.index\n",
    "df.reset_index(drop=True, inplace=True)\n",
    "\n",
    "df\n"
   ]
  },
  {
   "cell_type": "code",
   "execution_count": null,
   "metadata": {},
   "outputs": [],
   "source": []
  }
 ]
}