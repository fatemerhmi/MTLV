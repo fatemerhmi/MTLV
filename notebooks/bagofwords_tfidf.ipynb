{
 "metadata": {
  "language_info": {
   "codemirror_mode": {
    "name": "ipython",
    "version": 3
   },
   "file_extension": ".py",
   "mimetype": "text/x-python",
   "name": "python",
   "nbconvert_exporter": "python",
   "pygments_lexer": "ipython3",
   "version": "3.7.6-final"
  },
  "orig_nbformat": 2,
  "kernelspec": {
   "name": "python3",
   "display_name": "Python 3"
  }
 },
 "nbformat": 4,
 "nbformat_minor": 2,
 "cells": [
  {
   "cell_type": "code",
   "execution_count": 1,
   "metadata": {},
   "outputs": [
    {
     "output_type": "stream",
     "name": "stderr",
     "text": [
      "[nltk_data] Downloading package punkt to\n[nltk_data]     /users/grad/frahimi/nltk_data...\n[nltk_data]   Package punkt is already up-to-date!\n[nltk_data] Downloading package stopwords to\n[nltk_data]     /users/grad/frahimi/nltk_data...\n[nltk_data]   Package stopwords is already up-to-date!\n"
     ]
    }
   ],
   "source": [
    "from skmultilearn.model_selection import IterativeStratification\n",
    "import pandas as pd \n",
    "import numpy as np\n",
    "import nltk\n",
    "from autocorrect import Speller\n",
    "import ast\n",
    "import re\n",
    "from sklearn.metrics import accuracy_score, f1_score\n",
    "from sklearn.feature_extraction.text import CountVectorizer, TfidfVectorizer\n",
    "from sklearn.multioutput import MultiOutputClassifier\n",
    "from sklearn.ensemble import RandomForestClassifier\n",
    "\n",
    "\n",
    "nltk.download('punkt')\n",
    "from nltk.tokenize import word_tokenize as wt\n",
    "\n",
    "nltk.download('stopwords')\n",
    "from nltk.corpus import stopwords\n",
    "\n",
    "from nltk.stem.porter import PorterStemmer\n",
    "stemmer = PorterStemmer()"
   ]
  },
  {
   "cell_type": "code",
   "execution_count": 2,
   "metadata": {
    "tags": []
   },
   "outputs": [],
   "source": [
    "def bag_of_words(df_train, df_test):\n",
    "    df_train['labels'] = df_train.apply(lambda row: ast.literal_eval(row['labels']), axis=1)\n",
    "    df_test['labels'] = df_test.apply(lambda row: ast.literal_eval(row['labels']), axis=1)\n",
    "    #lower case\n",
    "    df_train.text = df_train.apply(lambda row: row.text.lower(), axis=1)\n",
    "    df_test.text = df_test.apply(lambda row: row.text.lower(), axis =1)\n",
    "    print(\"Lower case Done. \")\n",
    "\n",
    "    # remove non alphabetic characters\n",
    "    df_train.text = df_train.apply(lambda row: re.sub('[^A-Za-z]', ' ', row.text), axis=1)\n",
    "    df_test.text = df_test.apply(lambda row: re.sub('[^A-Za-z]', ' ', row.text), axis=1)\n",
    "    print(\"Non alphabetic characters Removed!\")\n",
    "\n",
    "    # tokenize\n",
    "    df_train.text = df_train.apply(lambda row: wt(row.text), axis=1)\n",
    "    df_test.text = df_test.apply(lambda row: wt(row.text), axis=1)\n",
    "    print(\"Tokenize Done.\")\n",
    "\n",
    "    # remove stop words and stemming\n",
    "    spell = Speller(lang='en')\n",
    "    # df_train.text = df_train.apply(lambda row: [spell(stemmer.stem(word)) for word in row.text if word not in set(stopwords.words('english'))], axis=1)\n",
    "    # df_test.text = df_test.apply(lambda row: [spell(stemmer.stem(word)) for word in row.text if word not in set(stopwords.words('english'))], axis=1)\n",
    "    df_train.text = df_train.apply(lambda row: [stemmer.stem(word) for word in row.text if word not in set(stopwords.words('english'))], axis=1)\n",
    "    df_test.text = df_test.apply(lambda row: [stemmer.stem(word) for word in row.text if word not in set(stopwords.words('english'))], axis=1)\n",
    "    print(\"stop words + stemming Done.\")\n",
    "\n",
    "    # join\n",
    "    df_train.text = df_train.apply(lambda row: \" \".join(row.text), axis=1)\n",
    "    df_test.text = df_test.apply(lambda row: \" \".join(row.text), axis=1)\n",
    "    print(\"join done!\")\n",
    "\n",
    "    # creating the feature matrix \n",
    "    matrix = CountVectorizer()\n",
    "    len_train = len(df_train.text)\n",
    "    X = matrix.fit_transform(df_train.text.to_list()+df_test.text.to_list()).toarray()\n",
    "    X_train = X[:len_train,:]\n",
    "    X_test = X[len_train:,:]\n",
    "    y_train = df_train.labels.to_list()\n",
    "    y_test = df_test.labels.to_list()\n",
    "\n",
    "    model = RandomForestClassifier(max_depth=12, random_state=0)\n",
    "    classifier = MultiOutputClassifier(model).fit(X_train, y_train)\n",
    "\n",
    "    y_pred = classifier.predict(X_test)\n",
    "    accuracy = accuracy_score(y_test, y_pred)\n",
    "    f1_micro = f1_score(y_test, y_pred,average='micro')\n",
    "    f1_macro = f1_score(y_test, y_pred,average='macro')\n",
    "    print(\"f1 micro\", f1_micro)\n",
    "    print(\"f1 macro\", f1_macro)\n",
    "    print(\"accuracy\", accuracy)"
   ]
  },
  {
   "cell_type": "code",
   "execution_count": 7,
   "metadata": {},
   "outputs": [],
   "source": [
    "def tfidf(df_train_orig, df_test):\n",
    "    df_train_orig['labels'] = df_train_orig.apply(lambda row: ast.literal_eval(row['labels']), axis=1)\n",
    "    df_test['labels'] = df_test.apply(lambda row: ast.literal_eval(row['labels']), axis=1)\n",
    "    #lower case\n",
    "    df_train_orig.text = df_train_orig.apply(lambda row: row.text.lower(), axis=1)\n",
    "    df_test.text = df_test.apply(lambda row: row.text.lower(), axis =1)\n",
    "    print(\"Lower case Done. \")\n",
    "\n",
    "    # remove non alphabetic characters\n",
    "    df_train_orig.text = df_train_orig.apply(lambda row: re.sub('[^A-Za-z]', ' ', row.text), axis=1)\n",
    "    df_test.text = df_test.apply(lambda row: re.sub('[^A-Za-z]', ' ', row.text), axis=1)\n",
    "    print(\"Non alphabetic characters Removed!\")\n",
    "\n",
    "    # tokenize\n",
    "    df_train_orig.text = df_train_orig.apply(lambda row: wt(row.text), axis=1)\n",
    "    df_test.text = df_test.apply(lambda row: wt(row.text), axis=1)\n",
    "    print(\"Tokenize Done.\")\n",
    "\n",
    "    # remove stop words and stemming\n",
    "    spell = Speller(lang='en')\n",
    "    df_train_orig.text = df_train_orig.apply(lambda row: [stemmer.stem(word) for word in row.text if word not in set(stopwords.words('english'))], axis=1)\n",
    "    df_test.text = df_test.apply(lambda row: [stemmer.stem(word) for word in row.text if word not in set(stopwords.words('english'))], axis=1)\n",
    "    print(\"stop words + stemming Done.\")\n",
    "\n",
    "    # join\n",
    "    df_train_orig.text = df_train_orig.apply(lambda row: \" \".join(row.text), axis=1)\n",
    "    df_test.text = df_test.apply(lambda row: \" \".join(row.text), axis=1)\n",
    "    print(\"join done!\")\n",
    "\n",
    "\n",
    "    # Building a TF IDF matrix \n",
    "    td = TfidfVectorizer(max_features = 8000)\n",
    "\n",
    "    fold_i =0\n",
    "    stratifier = IterativeStratification(n_splits=5, order=2)\n",
    "    results = []\n",
    "    for train_indexes, val_indexes in stratifier.split(df_train_orig['text'], np.array(df_train_orig['labels'].to_list())):\n",
    "        fold_i += 1\n",
    "        print(f\"[dataset] Fold {fold_i}\")\n",
    "\n",
    "        train_df_cv = df_train_orig.iloc[train_indexes,:]\n",
    "        val_df_cv = df_train_orig.iloc[val_indexes,:]\n",
    "\n",
    "        len_train_df_cv = len(train_df_cv)\n",
    "        len_val_df_cv = len(val_df_cv)\n",
    "\n",
    "        X = td.fit_transform(train_df_cv.text.to_list()+val_df_cv.text.to_list()+df_test.text.to_list()).toarray()\n",
    "        X_train = X[:len_train_df_cv,:]\n",
    "        X_val   = X[len_train_df_cv:len_train_df_cv+len_val_df_cv,:]\n",
    "        X_test  = X[len_train_df_cv+len_val_df_cv:,:]\n",
    "\n",
    "        y_train = train_df_cv.labels.to_list()\n",
    "        y_val   = val_df_cv.labels.to_list()\n",
    "        y_test  = df_test.labels.to_list()\n",
    "\n",
    "        # from sklearn.naive_bayes import MultinomialNB\n",
    "        # model = MultinomialNB()\n",
    "\n",
    "        model = RandomForestClassifier(max_depth=12, random_state=0)\n",
    "        classifier = MultiOutputClassifier(model).fit(X_train, y_train)\n",
    "\n",
    "        y_pred = classifier.predict(X_test)\n",
    "        accuracy = accuracy_score(y_test, y_pred)\n",
    "        f1_micro = f1_score(y_test, y_pred,average='micro')\n",
    "        f1_macro = f1_score(y_test, y_pred,average='macro')\n",
    "\n",
    "        results.append([f1_micro,f1_macro,accuracy])\n",
    "\n",
    "    results = np.array(results)\n",
    "    mean = np.mean(results, axis=0)\n",
    "    std = np.std(results, axis=0)\n",
    "\n",
    "    print(\"f1_micro= \", mean[0]*100,\" +- \", std[0]*100)\n",
    "    print(\"f1_macro = \", mean[1]*100,\" +- \", std[1]*100)\n",
    "    print(\"acc = \", mean[2]*100,\" +- \", std[2]*100)"
   ]
  },
  {
   "cell_type": "code",
   "execution_count": 8,
   "metadata": {},
   "outputs": [
    {
     "output_type": "stream",
     "name": "stdout",
     "text": [
      "OpenI:\n",
      "Lower case Done. \n",
      "Non alphabetic characters Removed!\n",
      "Tokenize Done.\n",
      "stop words + stemming Done.\n",
      "join done!\n",
      "[dataset] Fold 1\n",
      "[dataset] Fold 2\n",
      "[dataset] Fold 3\n",
      "[dataset] Fold 4\n",
      "[dataset] Fold 5\n",
      "f1_micro=  29.17517727987029  +-  2.0516641772232913\n",
      "f1_macro =  21.378596706379604  +-  1.0227448397779957\n",
      "acc =  43.449367088607595  +-  1.1035187198837146\n"
     ]
    }
   ],
   "source": [
    "print(\"OpenI:\")\n",
    "df_train = pd.read_csv(\"../data/OpenI/openI_train.csv\") \n",
    "df_test = pd.read_csv(\"../data/OpenI/openI_test.csv\")\n",
    "\n",
    "# bag_of_words(df_train, df_test)\n",
    "tfidf(df_train, df_test)\n"
   ]
  },
  {
   "cell_type": "code",
   "execution_count": 10,
   "metadata": {},
   "outputs": [
    {
     "output_type": "stream",
     "name": "stdout",
     "text": [
      "ohsumed:\n",
      "Lower case Done. \n",
      "Non alphabetic characters Removed!\n",
      "Tokenize Done.\n",
      "stop words + stemming Done.\n",
      "join done!\n",
      "[dataset] Fold 1\n",
      "[dataset] Fold 2\n",
      "[dataset] Fold 3\n",
      "[dataset] Fold 4\n",
      "[dataset] Fold 5\n",
      "f1_micro=  11.449937053354082  +-  0.40288040202325937\n",
      "f1_macro =  5.667292817431572  +-  0.21391753806927774\n",
      "acc =  5.409044343626518  +-  0.23132339889921547\n"
     ]
    }
   ],
   "source": [
    "print(\"ohsumed:\")\n",
    "\n",
    "df_train = pd.read_csv(\"../data/ohsumed/ohsumed_train.csv\") \n",
    "df_test = pd.read_csv(\"../data/ohsumed/ohsumed_test.csv\")\n",
    "\n",
    "# bag_of_words(df_train, df_test)\n",
    "tfidf(df_train, df_test)"
   ]
  },
  {
   "cell_type": "code",
   "execution_count": null,
   "metadata": {},
   "outputs": [],
   "source": [
    "print(\"reuters:\")\n",
    "\n",
    "df_train = pd.read_csv(\"../data/reuters/reuters_train.csv\") \n",
    "df_test = pd.read_csv(\"../data/reuters/reuters_test.csv\")\n",
    "\n",
    "# bag_of_words(df_train, df_test)\n",
    "tfidf(df_train, df_test)"
   ]
  },
  {
   "cell_type": "code",
   "execution_count": null,
   "metadata": {},
   "outputs": [],
   "source": [
    "print(\"twentynewsgroup:\")\n",
    "\n",
    "df_train = pd.read_csv(\"../data/twentynewsgroup/twentynewsgroup_train.csv\") \n",
    "df_test = pd.read_csv(\"../data/twentynewsgroup/twentynewsgroup_test.csv\")\n",
    "\n",
    "# bag_of_words(df_train, df_test)\n",
    "tfidf(df_train, df_test)"
   ]
  },
  {
   "cell_type": "code",
   "execution_count": null,
   "metadata": {},
   "outputs": [],
   "source": []
  }
 ]
}