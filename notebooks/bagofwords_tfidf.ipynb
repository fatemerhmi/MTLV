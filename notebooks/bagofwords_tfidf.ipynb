{
 "metadata": {
  "language_info": {
   "codemirror_mode": {
    "name": "ipython",
    "version": 3
   },
   "file_extension": ".py",
   "mimetype": "text/x-python",
   "name": "python",
   "nbconvert_exporter": "python",
   "pygments_lexer": "ipython3",
   "version": "3.7.6-final"
  },
  "orig_nbformat": 2,
  "kernelspec": {
   "name": "python3",
   "display_name": "Python 3"
  }
 },
 "nbformat": 4,
 "nbformat_minor": 2,
 "cells": [
  {
   "cell_type": "code",
   "execution_count": 1,
   "metadata": {},
   "outputs": [
    {
     "output_type": "stream",
     "name": "stderr",
     "text": [
      "[nltk_data] Downloading package punkt to\n[nltk_data]     /users/grad/frahimi/nltk_data...\n[nltk_data]   Package punkt is already up-to-date!\n[nltk_data] Downloading package stopwords to\n[nltk_data]     /users/grad/frahimi/nltk_data...\n[nltk_data]   Package stopwords is already up-to-date!\n"
     ]
    }
   ],
   "source": [
    "from skmultilearn.model_selection import IterativeStratification\n",
    "import pandas as pd \n",
    "import numpy as np\n",
    "import nltk\n",
    "from autocorrect import Speller\n",
    "import ast\n",
    "import re\n",
    "from sklearn.metrics import accuracy_score, f1_score\n",
    "from sklearn.feature_extraction.text import CountVectorizer, TfidfVectorizer\n",
    "from sklearn.multioutput import MultiOutputClassifier\n",
    "from sklearn.ensemble import RandomForestClassifier\n",
    "import string\n",
    "\n",
    "nltk.download('punkt')\n",
    "from nltk.tokenize import word_tokenize as wt\n",
    "\n",
    "nltk.download('stopwords')\n",
    "from nltk.corpus import stopwords\n",
    "\n",
    "from nltk.stem.porter import PorterStemmer\n",
    "stemmer = PorterStemmer()\n",
    "\n",
    "symbols = ['.',',',':','?','!','<','>','(',')','#','--','-','$','@','%','``',';',\"''\"]"
   ]
  },
  {
   "cell_type": "code",
   "execution_count": 2,
   "metadata": {
    "tags": []
   },
   "outputs": [],
   "source": [
    "\n",
    "def bag_of_words(df_train_orig, df_test):\n",
    "    df_train_orig['labels'] = df_train_orig.apply(lambda row: ast.literal_eval(row['labels']), axis=1)\n",
    "    df_test['labels'] = df_test.apply(lambda row: ast.literal_eval(row['labels']), axis=1)\n",
    "\n",
    "    df_train_orig.text = df_train_orig.text.apply(preprocess)\n",
    "    df_test.text = df_test.text.apply(preprocess)\n",
    "\n",
    "    c_vect = CountVectorizer(max_df=0.8, min_df=10, max_features=40000, ngram_range=(1,1),\n",
    "                        lowercase=False)\n",
    "    fold_i =0\n",
    "    stratifier = IterativeStratification(n_splits=5, order=2)\n",
    "    results = []\n",
    "    for train_indexes, val_indexes in stratifier.split(df_train_orig['text'], np.array(df_train_orig['labels'].to_list())):\n",
    "        fold_i += 1\n",
    "        print(f\"[dataset] Fold {fold_i}\")\n",
    "\n",
    "        train_df_cv = df_train_orig.iloc[train_indexes,:]\n",
    "        val_df_cv = df_train_orig.iloc[val_indexes,:]\n",
    "\n",
    "        len_train_df_cv = len(train_df_cv)\n",
    "        len_val_df_cv = len(val_df_cv)\n",
    "\n",
    "        X = c_vect.fit_transform(train_df_cv.text.to_list()+val_df_cv.text.to_list()+df_test.text.to_list()).toarray()\n",
    "        X_train = X[:len_train_df_cv,:]\n",
    "        X_val   = X[len_train_df_cv:len_train_df_cv+len_val_df_cv,:]\n",
    "        X_test  = X[len_train_df_cv+len_val_df_cv:,:]\n",
    "\n",
    "        y_train = train_df_cv.labels.to_list()\n",
    "        y_val   = val_df_cv.labels.to_list()\n",
    "        y_test  = df_test.labels.to_list()\n",
    "\n",
    "        # from sklearn.naive_bayes import MultinomialNB\n",
    "        # model = MultinomialNB()\n",
    "\n",
    "        # model = RandomForestClassifier(max_depth=12, random_state=0)\n",
    "        model = RandomForestClassifier(n_estimators=30, max_depth=500,\n",
    "                               min_samples_split=2,\n",
    "                               min_samples_leaf=1, max_leaf_nodes=None,\n",
    "                               class_weight='balanced')\n",
    "        classifier = MultiOutputClassifier(model).fit(X_train, y_train)\n",
    "\n",
    "        y_pred = classifier.predict(X_test)\n",
    "        accuracy = accuracy_score(y_test, y_pred)\n",
    "        f1_micro = f1_score(y_test, y_pred,average='micro')\n",
    "        f1_macro = f1_score(y_test, y_pred,average='macro')\n",
    "\n",
    "        results.append([f1_micro,f1_macro,accuracy])\n",
    "\n",
    "    results = np.array(results)\n",
    "    mean = np.mean(results, axis=0)\n",
    "    std = np.std(results, axis=0)\n",
    "\n",
    "    print(\"f1_micro= \", mean[0]*100,\" +- \", std[0]*100)\n",
    "    print(\"f1_macro = \", mean[1]*100,\" +- \", std[1]*100)\n",
    "    print(\"acc = \", mean[2]*100,\" +- \", std[2]*100)"
   ]
  },
  {
   "cell_type": "code",
   "execution_count": 4,
   "metadata": {},
   "outputs": [],
   "source": [
    "def preprocess(row):\n",
    "    # lower case\n",
    "    row = row.lower()\n",
    "\n",
    "    #remove symbols\n",
    "    row = row.translate(str.maketrans('', '', string.punctuation))\n",
    "\n",
    "    #remove non alphabetic \n",
    "    row = re.sub('[^A-Za-z]', ' ', row)\n",
    "\n",
    "    #tokenize\n",
    "    row = wt(row)\n",
    "    \n",
    "    #remove words with less than 3 characters\n",
    "    row = [word for word in row if len(word)>2]\n",
    "\n",
    "    # remove stop words and stemming\n",
    "    # row = [stemmer.stem(word) for word in row if word not in set(stopwords.words('english'))]\n",
    "    row = [word for word in row if word not in set(stopwords.words('english'))]\n",
    "\n",
    "    #if a word appears too much remove it\n",
    "\n",
    "    #join\n",
    "    row = \" \".join(row)\n",
    "\n",
    "    return row\n",
    "\n",
    "def tfidf(df_train_orig, df_test):\n",
    "    df_train_orig['labels'] = df_train_orig.apply(lambda row: ast.literal_eval(row['labels']), axis=1)\n",
    "    df_test['labels'] = df_test.apply(lambda row: ast.literal_eval(row['labels']), axis=1)\n",
    "\n",
    "    df_train_orig.text = df_train_orig.text.apply(preprocess)\n",
    "    df_test.text = df_test.text.apply(preprocess)\n",
    "\n",
    "    # Building a TF IDF matrix \n",
    "    # td = TfidfVectorizer(max_features = 8000) \n",
    "    td = TfidfVectorizer(max_df=0.8, min_df=10, max_features=40000, ngram_range=(1,1),\n",
    "                        lowercase=False)\n",
    "    fold_i =0\n",
    "    stratifier = IterativeStratification(n_splits=5, order=2)\n",
    "    results = []\n",
    "    for train_indexes, val_indexes in stratifier.split(df_train_orig['text'], np.array(df_train_orig['labels'].to_list())):\n",
    "        fold_i += 1\n",
    "        print(f\"[dataset] Fold {fold_i}\")\n",
    "\n",
    "        train_df_cv = df_train_orig.iloc[train_indexes,:]\n",
    "        val_df_cv = df_train_orig.iloc[val_indexes,:]\n",
    "\n",
    "        len_train_df_cv = len(train_df_cv)\n",
    "        len_val_df_cv = len(val_df_cv)\n",
    "\n",
    "        X = td.fit_transform(train_df_cv.text.to_list()+val_df_cv.text.to_list()+df_test.text.to_list()).toarray()\n",
    "        X_train = X[:len_train_df_cv,:]\n",
    "        X_val   = X[len_train_df_cv:len_train_df_cv+len_val_df_cv,:]\n",
    "        X_test  = X[len_train_df_cv+len_val_df_cv:,:]\n",
    "\n",
    "        y_train = train_df_cv.labels.to_list()\n",
    "        y_val   = val_df_cv.labels.to_list()\n",
    "        y_test  = df_test.labels.to_list()\n",
    "\n",
    "        # from sklearn.naive_bayes import MultinomialNB\n",
    "        # model = MultinomialNB()\n",
    "\n",
    "        # model = RandomForestClassifier(max_depth=12, random_state=0)\n",
    "        model = RandomForestClassifier(n_estimators=30, max_depth=500,\n",
    "                               min_samples_split=2,\n",
    "                               min_samples_leaf=1, max_leaf_nodes=None,\n",
    "                               class_weight='balanced')\n",
    "        classifier = MultiOutputClassifier(model).fit(X_train, y_train)\n",
    "\n",
    "        y_pred = classifier.predict(X_test)\n",
    "        accuracy = accuracy_score(y_test, y_pred)\n",
    "        f1_micro = f1_score(y_test, y_pred,average='micro')\n",
    "        f1_macro = f1_score(y_test, y_pred,average='macro')\n",
    "\n",
    "        results.append([f1_micro,f1_macro,accuracy])\n",
    "\n",
    "    results = np.array(results)\n",
    "    mean = np.mean(results, axis=0)\n",
    "    std = np.std(results, axis=0)\n",
    "\n",
    "    print(\"f1_micro= \", mean[0]*100,\" +- \", std[0]*100)\n",
    "    print(\"f1_macro = \", mean[1]*100,\" +- \", std[1]*100)\n",
    "    print(\"acc = \", mean[2]*100,\" +- \", std[2]*100)"
   ]
  },
  {
   "cell_type": "code",
   "execution_count": 5,
   "metadata": {},
   "outputs": [
    {
     "output_type": "stream",
     "name": "stdout",
     "text": [
      "OpenI:\n",
      "[dataset] Fold 1\n",
      "[dataset] Fold 2\n",
      "[dataset] Fold 3\n",
      "[dataset] Fold 4\n",
      "[dataset] Fold 5\n",
      "f1_micro=  61.870981095222746  +-  0.36375897147228514\n",
      "f1_macro =  53.0950593976778  +-  0.8501006441709079\n",
      "acc =  55.82278481012658  +-  0.44077178092355046\n"
     ]
    }
   ],
   "source": [
    "print(\"OpenI:\")\n",
    "df_train = pd.read_csv(\"../data/OpenI/openI_train.csv\") \n",
    "df_test = pd.read_csv(\"../data/OpenI/openI_test.csv\")\n",
    "\n",
    "# bag_of_words(df_train, df_test)\n",
    "tfidf(df_train, df_test)\n"
   ]
  },
  {
   "cell_type": "code",
   "execution_count": 10,
   "metadata": {},
   "outputs": [
    {
     "output_type": "stream",
     "name": "stdout",
     "text": [
      "ohsumed:\n",
      "Lower case Done. \n",
      "Non alphabetic characters Removed!\n",
      "Tokenize Done.\n",
      "stop words + stemming Done.\n",
      "join done!\n",
      "[dataset] Fold 1\n",
      "[dataset] Fold 2\n",
      "[dataset] Fold 3\n",
      "[dataset] Fold 4\n",
      "[dataset] Fold 5\n",
      "f1_micro=  11.449937053354082  +-  0.40288040202325937\n",
      "f1_macro =  5.667292817431572  +-  0.21391753806927774\n",
      "acc =  5.409044343626518  +-  0.23132339889921547\n"
     ]
    }
   ],
   "source": [
    "print(\"ohsumed:\")\n",
    "\n",
    "df_train = pd.read_csv(\"../data/ohsumed/ohsumed_train.csv\") \n",
    "df_test = pd.read_csv(\"../data/ohsumed/ohsumed_test.csv\")\n",
    "\n",
    "# bag_of_words(df_train, df_test)\n",
    "tfidf(df_train, df_test)"
   ]
  },
  {
   "cell_type": "code",
   "execution_count": null,
   "metadata": {},
   "outputs": [],
   "source": [
    "print(\"reuters:\")\n",
    "\n",
    "df_train = pd.read_csv(\"../data/reuters/reuters_train.csv\") \n",
    "df_test = pd.read_csv(\"../data/reuters/reuters_test.csv\")\n",
    "\n",
    "# bag_of_words(df_train, df_test)\n",
    "tfidf(df_train, df_test)"
   ]
  },
  {
   "cell_type": "code",
   "execution_count": 7,
   "metadata": {},
   "outputs": [
    {
     "output_type": "stream",
     "name": "stdout",
     "text": [
      "twentynewsgroup:\n",
      "[dataset] Fold 1\n",
      "[dataset] Fold 2\n",
      "[dataset] Fold 3\n",
      "[dataset] Fold 4\n",
      "[dataset] Fold 5\n",
      "f1_micro=  16.133115732204036  +-  0.34243139822645013\n",
      "f1_macro =  15.089176770885116  +-  0.30258028943646686\n",
      "acc =  8.685780817930432  +-  0.16501863231620867\n"
     ]
    }
   ],
   "source": [
    "print(\"twentynewsgroup:\")\n",
    "\n",
    "df_train = pd.read_csv(\"../data/twentynewsgroup/twentynewsgroup_train.csv\") \n",
    "df_test = pd.read_csv(\"../data/twentynewsgroup/twentynewsgroup_test.csv\")\n",
    "\n",
    "# bag_of_words(df_train, df_test)\n",
    "tfidf(df_train, df_test)"
   ]
  }
 ]
}