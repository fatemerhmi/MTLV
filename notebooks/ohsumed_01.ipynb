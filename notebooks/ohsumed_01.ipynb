{
 "metadata": {
  "language_info": {
   "codemirror_mode": {
    "name": "ipython",
    "version": 3
   },
   "file_extension": ".py",
   "mimetype": "text/x-python",
   "name": "python",
   "nbconvert_exporter": "python",
   "pygments_lexer": "ipython3",
   "version": "3.7.6-final"
  },
  "orig_nbformat": 2,
  "kernelspec": {
   "name": "python_defaultSpec_1598530357895",
   "display_name": "Python 3.7.6 64-bit"
  }
 },
 "nbformat": 4,
 "nbformat_minor": 2,
 "cells": [
  {
   "cell_type": "code",
   "execution_count": 2,
   "metadata": {},
   "outputs": [],
   "source": [
    "import os\n",
    "import pandas as pd \n",
    "\n",
    "df = pd.DataFrame(columns=['category', 'count'])\n",
    "path = '../data/ohsumed-all-docs/ohsumed-all'\n",
    "files = os.listdir(path)\n",
    "for f in files:\n",
    "    # print(f)\n",
    "    # print(path+'/'+f)\n",
    "    category_files = os.listdir(path+'/'+f)\n",
    "    # print(len(category_files))\n",
    "    df = df.append({'category': f, 'count': len(category_files)}, ignore_index=True)"
   ]
  },
  {
   "cell_type": "code",
   "execution_count": 3,
   "metadata": {},
   "outputs": [
    {
     "output_type": "execute_result",
     "data": {
      "text/plain": "   category count\n0       C02  1171\n1       C08  2589\n2       C13  1623\n3       C16  1086\n4       C18  1919\n5       C15  1277\n6       C23  9611\n7       C22   506\n8       C12  2518\n9       C05  1678\n10      C07   526\n11      C03   427\n12      C04  6327\n13      C21  2933\n14      C19   865\n15      C11   998\n16      C14  6102\n17      C01  2540\n18      C10  3851\n19      C20  3116\n20      C06  2989\n21      C09   715\n22      C17  1617",
      "text/html": "<div>\n<style scoped>\n    .dataframe tbody tr th:only-of-type {\n        vertical-align: middle;\n    }\n\n    .dataframe tbody tr th {\n        vertical-align: top;\n    }\n\n    .dataframe thead th {\n        text-align: right;\n    }\n</style>\n<table border=\"1\" class=\"dataframe\">\n  <thead>\n    <tr style=\"text-align: right;\">\n      <th></th>\n      <th>category</th>\n      <th>count</th>\n    </tr>\n  </thead>\n  <tbody>\n    <tr>\n      <th>0</th>\n      <td>C02</td>\n      <td>1171</td>\n    </tr>\n    <tr>\n      <th>1</th>\n      <td>C08</td>\n      <td>2589</td>\n    </tr>\n    <tr>\n      <th>2</th>\n      <td>C13</td>\n      <td>1623</td>\n    </tr>\n    <tr>\n      <th>3</th>\n      <td>C16</td>\n      <td>1086</td>\n    </tr>\n    <tr>\n      <th>4</th>\n      <td>C18</td>\n      <td>1919</td>\n    </tr>\n    <tr>\n      <th>5</th>\n      <td>C15</td>\n      <td>1277</td>\n    </tr>\n    <tr>\n      <th>6</th>\n      <td>C23</td>\n      <td>9611</td>\n    </tr>\n    <tr>\n      <th>7</th>\n      <td>C22</td>\n      <td>506</td>\n    </tr>\n    <tr>\n      <th>8</th>\n      <td>C12</td>\n      <td>2518</td>\n    </tr>\n    <tr>\n      <th>9</th>\n      <td>C05</td>\n      <td>1678</td>\n    </tr>\n    <tr>\n      <th>10</th>\n      <td>C07</td>\n      <td>526</td>\n    </tr>\n    <tr>\n      <th>11</th>\n      <td>C03</td>\n      <td>427</td>\n    </tr>\n    <tr>\n      <th>12</th>\n      <td>C04</td>\n      <td>6327</td>\n    </tr>\n    <tr>\n      <th>13</th>\n      <td>C21</td>\n      <td>2933</td>\n    </tr>\n    <tr>\n      <th>14</th>\n      <td>C19</td>\n      <td>865</td>\n    </tr>\n    <tr>\n      <th>15</th>\n      <td>C11</td>\n      <td>998</td>\n    </tr>\n    <tr>\n      <th>16</th>\n      <td>C14</td>\n      <td>6102</td>\n    </tr>\n    <tr>\n      <th>17</th>\n      <td>C01</td>\n      <td>2540</td>\n    </tr>\n    <tr>\n      <th>18</th>\n      <td>C10</td>\n      <td>3851</td>\n    </tr>\n    <tr>\n      <th>19</th>\n      <td>C20</td>\n      <td>3116</td>\n    </tr>\n    <tr>\n      <th>20</th>\n      <td>C06</td>\n      <td>2989</td>\n    </tr>\n    <tr>\n      <th>21</th>\n      <td>C09</td>\n      <td>715</td>\n    </tr>\n    <tr>\n      <th>22</th>\n      <td>C17</td>\n      <td>1617</td>\n    </tr>\n  </tbody>\n</table>\n</div>"
     },
     "metadata": {},
     "execution_count": 3
    }
   ],
   "source": [
    "df"
   ]
  },
  {
   "cell_type": "code",
   "execution_count": 1,
   "metadata": {
    "tags": []
   },
   "outputs": [
    {
     "output_type": "stream",
     "name": "stdout",
     "text": "Bacterial Infections and Mycoses                      C01\n\nVirus Diseases                                        C02\n\nParasitic Diseases                                    C03\n\nNeoplasms                                             C04\n\nMusculoskeletal Diseases                              C05\n\nDigestive System Diseases                             C06\n\nStomatognathic Diseases                               C07\n\nRespiratory Tract Diseases                            C08\n\nOtorhinolaryngologic Diseases                         C09\n\nNervous System Diseases                               C10\n\nEye Diseases                                          C11\n\nUrologic and Male Genital Diseases                    C12\n\nFemale Genital Diseases and Pregnancy Complications   C13\n\nCardiovascular Diseases                               C14\n\nHemic and Lymphatic Diseases                          C15\n\nNeonatal Diseases and Abnormalities                   C16\n\nSkin and Connective Tissue Diseases                   C17\n\nNutritional and Metabolic Diseases                    C18\n\nEndocrine Diseases                                    C19\n\nImmunologic Diseases                                  C20\n\nDisorders of Environmental Origin                     C21\n\nAnimal Diseases                                       C22\n\nPathological Conditions, Signs and Symptoms           C23\n\n"
    }
   ],
   "source": [
    "f = open(\"../data/ohsumed-all-docs/First-Level-Categories-of-Cardiovascular-Disease.txt\", \"r\")\n",
    "for x in f:\n",
    "  print(x) "
   ]
  },
  {
   "cell_type": "code",
   "execution_count": null,
   "metadata": {},
   "outputs": [],
   "source": []
  }
 ]
}