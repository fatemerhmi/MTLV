{
  "nbformat": 4,
  "nbformat_minor": 0,
  "metadata": {
    "colab": {
      "name": "KDE",
      "provenance": [],
      "collapsed_sections": []
    },
    "kernelspec": {
      "name": "python3",
      "display_name": "Python 3"
    }
  },
  "cells": [
    {
      "cell_type": "code",
      "metadata": {
        "id": "FcapC3hgUSGr",
        "outputId": "95235963-f91c-4750-8677-f4bb8667571f",
        "colab": {
          "base_uri": "https://localhost:8080/",
          "height": 375
        }
      },
      "source": [
        "import matplotlib.pyplot as plt\n",
        "from numpy import array, linspace\n",
        "import numpy as np\n",
        "from sklearn.neighbors import KernelDensity\n",
        "from matplotlib.pyplot import plot\n",
        "from scipy.signal import argrelextrema\n",
        "from scipy.stats import scoreatpercentile\n",
        "from sklearn.model_selection import GridSearchCV, LeaveOneOut\n",
        "\n",
        "def bandwidth_silverman(x):\n",
        "    #Bandwidth estimated by Silverman's Rule of Thumb\n",
        "    # A = min(std(x, ddof=1), IQR/1.349)\n",
        "    IQR = np.subtract.reduce(np.percentile(x, [75,25]))\n",
        "    b=4\n",
        "    normalize = 1.349\n",
        "    IQR = (scoreatpercentile(x, 75) - scoreatpercentile(x, 25)) / normalize\n",
        "    std_dev = np.std(x, axis=0, ddof=1)\n",
        "    if IQR > 0:\n",
        "        A = np.minimum(std_dev, IQR)\n",
        "    else:\n",
        "        A = std_dev\n",
        "    b = .9 * A * (n ** (-0.2))\n",
        "    print(\"b=\", b)\n",
        "    return b\n",
        "\n",
        "def bandwidths_grid_search(x):\n",
        "    bandwidths = linspace(min(x),max(x))\n",
        "    grid = GridSearchCV(KernelDensity(kernel='gaussian'),\n",
        "                        param_grid={'bandwidth': bandwidths},\n",
        "                        cv=15)\n",
        "    grid.fit(a)\n",
        "\n",
        "    b = grid.best_params_['bandwidth']\n",
        "    print(\"b=\", b)\n",
        "    return b\n",
        "\n",
        "\n",
        "def KDE(x,b):\n",
        "    a = array(x).reshape(-1, 1)\n",
        "    n = len(x)\n",
        "    #kernel Density \n",
        "    kde = KernelDensity(kernel='gaussian', bandwidth=b).fit(a)\n",
        "    s = linspace(min(x),max(x))\n",
        "    e = kde.score_samples(s.reshape(-1,1))\n",
        "\n",
        "    mi, ma = argrelextrema(e, np.less)[0], argrelextrema(e, np.greater)[0]\n",
        "    mins = s[mi]\n",
        "    print(\"Mins:\", mins)\n",
        "\n",
        "    # fig, ax = plt.subplots(1, 1)\n",
        "    # ax2 = ax.twinx()\n",
        "    # ax3 = ax2.twiny()\n",
        "\n",
        "    fig = matplotlib.pyplot.gcf()\n",
        "    fig.set_size_inches(10, 5)\n",
        "\n",
        "    plt.subplot(1, 2, 1)\n",
        "    plt.hist(x, bins=30)\n",
        "    \n",
        "    plt.subplot(1, 2, 2)\n",
        "    plt.plot(s,e,\n",
        "            s[mi], e[mi], 'ro')\n",
        "\n",
        "    fig.savefig('test2png.png', dpi=100)\n",
        "    groupings = []\n",
        "    head_index = []\n",
        "    for i in range(len(mins)):\n",
        "      if i==0:\n",
        "        groupings.append(a[a<mins[i]])\n",
        "        head_index.append(list(np.where(a<mins[i])[0]))\n",
        "      elif i==len(mins)-1:  \n",
        "        groupings.append(a[(a >= mins[i-1]) * (a < mins[i])])\n",
        "        head_index.append(list(np.where((a >= mins[i-1]) * (a < mins[i]))[0]))\n",
        "        groupings.append(a[a >= mins[i]])\n",
        "        head_index.append(list(np.where(a >= mins[i])[0]))\n",
        "      else:\n",
        "        groupings.append(a[(a >= mins[i-1]) * (a < mins[i])])\n",
        "        head_index.append(list(np.where((a >= mins[i-1]) * (a < mins[i]))[0]))\n",
        "    return head_index\n",
        "\n",
        "\n",
        "\n",
        "\n",
        "x = [125, 332, 274, 304, 375, 196, 117, 164, 105, 132, 111, 125, 111, 206, 282, 111, 455, 175,105, 265]\n",
        "print(x)\n",
        "head_index = KDE(x,b=20)\n",
        "print(head_index)\n",
        "\n",
        "# KDE(x, b= bandwidths_grid_search(x))\n",
        "# KDE(x, b= bandwidth_silverman(x))"
      ],
      "execution_count": 20,
      "outputs": [
        {
          "output_type": "stream",
          "text": [
            "[125, 332, 274, 304, 375, 196, 117, 164, 105, 132, 111, 125, 111, 206, 282, 111, 455, 175, 105, 265]\n",
            "Mins: [169.28571429 233.57142857 412.14285714]\n",
            "[[0, 6, 7, 8, 9, 10, 11, 12, 15, 18], [5, 13, 17], [1, 2, 3, 4, 14, 19], [16]]\n"
          ],
          "name": "stdout"
        },
        {
          "output_type": "display_data",
          "data": {
            "image/png": "[encoded data removed]",
            "text/plain": [
              "<Figure size 720x360 with 2 Axes>"
            ]
          },
          "metadata": {
            "tags": [],
            "needs_background": "light"
          }
        }
      ]
    },
    {
      "cell_type": "code",
      "metadata": {
        "id": "yP0LXPZQoPNL"
      },
      "source": [
        ""
      ],
      "execution_count": null,
      "outputs": []
    }
  ]
}