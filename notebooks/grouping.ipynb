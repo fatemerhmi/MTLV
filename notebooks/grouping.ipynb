{
 "metadata": {
  "language_info": {
   "codemirror_mode": {
    "name": "ipython",
    "version": 3
   },
   "file_extension": ".py",
   "mimetype": "text/x-python",
   "name": "python",
   "nbconvert_exporter": "python",
   "pygments_lexer": "ipython3",
   "version": "3.7.6-final"
  },
  "orig_nbformat": 2,
  "kernelspec": {
   "name": "Python 3.7.6 64-bit",
   "display_name": "Python 3.7.6 64-bit",
   "metadata": {
    "interpreter": {
     "hash": "d03317f628d3e025abac1803f8c4af092035960288705a1011779c848b3dcc10"
    }
   }
  }
 },
 "nbformat": 4,
 "nbformat_minor": 2,
 "cells": [
  {
   "cell_type": "code",
   "execution_count": 1,
   "metadata": {},
   "outputs": [],
   "source": [
    "from PyDictionary import PyDictionary"
   ]
  },
  {
   "cell_type": "code",
   "execution_count": 4,
   "metadata": {
    "tags": []
   },
   "outputs": [
    {
     "output_type": "stream",
     "name": "stdout",
     "text": "{'Noun': ['an abnormal enlargement of the heart']}\n"
    }
   ],
   "source": [
    "dictionary=PyDictionary()\n",
    "dictionary.meaning(\"Cardiomegaly\")"
   ]
  },
  {
   "cell_type": "code",
   "execution_count": 7,
   "metadata": {
    "tags": []
   },
   "outputs": [
    {
     "output_type": "stream",
     "name": "stdout",
     "text": "Error: A Term must be only a single word\n"
    }
   ],
   "source": [
    "dictionary.meaning(\"Lung Opacity\")"
   ]
  },
  {
   "cell_type": "code",
   "execution_count": 8,
   "metadata": {},
   "outputs": [],
   "source": [
    "import requests"
   ]
  },
  {
   "cell_type": "code",
   "execution_count": 14,
   "metadata": {},
   "outputs": [],
   "source": [
    "response = requests.get(\"https://api.dictionaryapi.dev/api/v2/entries/en/lung opacity\")"
   ]
  },
  {
   "cell_type": "code",
   "execution_count": 15,
   "metadata": {},
   "outputs": [
    {
     "output_type": "execute_result",
     "data": {
      "text/plain": "{'title': 'No Definitions Found',\n 'message': \"Sorry pal, we couldn't find definitions for the word you were looking for.\",\n 'resolution': 'You can try the search again at later time or head to the web instead.'}"
     },
     "metadata": {},
     "execution_count": 15
    }
   ],
   "source": [
    "response.json()"
   ]
  },
  {
   "cell_type": "code",
   "execution_count": 16,
   "metadata": {},
   "outputs": [
    {
     "output_type": "execute_result",
     "data": {
      "text/plain": "False"
     },
     "metadata": {},
     "execution_count": 16
    }
   ],
   "source": [
    "import webbrowser\n",
    "inp=input(\"Enter the word\")\n",
    "webbrowser.open('https://www.google.co.in/search?q=Dictionary#dobs={}'.format(inp)) "
   ]
  },
  {
   "cell_type": "code",
   "execution_count": null,
   "metadata": {},
   "outputs": [],
   "source": []
  }
 ]
}