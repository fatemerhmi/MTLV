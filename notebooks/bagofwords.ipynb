{
 "metadata": {
  "language_info": {
   "codemirror_mode": {
    "name": "ipython",
    "version": 3
   },
   "file_extension": ".py",
   "mimetype": "text/x-python",
   "name": "python",
   "nbconvert_exporter": "python",
   "pygments_lexer": "ipython3",
   "version": "3.7.6-final"
  },
  "orig_nbformat": 2,
  "kernelspec": {
   "name": "python3",
   "display_name": "Python 3"
  }
 },
 "nbformat": 4,
 "nbformat_minor": 2,
 "cells": [
  {
   "cell_type": "code",
   "execution_count": 15,
   "metadata": {
    "tags": []
   },
   "outputs": [
    {
     "output_type": "stream",
     "name": "stderr",
     "text": [
      "[nltk_data] Downloading package punkt to\n[nltk_data]     /users/grad/frahimi/nltk_data...\n[nltk_data]   Package punkt is already up-to-date!\n[nltk_data] Downloading package stopwords to\n[nltk_data]     /users/grad/frahimi/nltk_data...\n[nltk_data]   Package stopwords is already up-to-date!\n"
     ]
    }
   ],
   "source": [
    "import pandas as pd \n",
    "import nltk\n",
    "from autocorrect import Speller\n",
    "import ast\n",
    "import re\n",
    "from sklearn.metrics import accuracy_score, f1_score\n",
    "from sklearn.feature_extraction.text import CountVectorizer\n",
    "from sklearn.multioutput import MultiOutputClassifier\n",
    "from sklearn.ensemble import RandomForestClassifier\n",
    "\n",
    "nltk.download('punkt')\n",
    "from nltk.tokenize import word_tokenize as wt\n",
    "\n",
    "nltk.download('stopwords')\n",
    "from nltk.corpus import stopwords\n",
    "\n",
    "from nltk.stem.porter import PorterStemmer\n",
    "stemmer = PorterStemmer()\n",
    "\n",
    "\n",
    "\n",
    "def bag_of_words(df_train, df_test):\n",
    "    df_train['labels'] = df_train.apply(lambda row: ast.literal_eval(row['labels']), axis=1)\n",
    "    df_test['labels'] = df_test.apply(lambda row: ast.literal_eval(row['labels']), axis=1)\n",
    "    #lower case\n",
    "    df_train.text = df_train.apply(lambda row: row.text.lower(), axis=1)\n",
    "    df_test.text = df_test.apply(lambda row: row.text.lower(), axis =1)\n",
    "    print(\"Lower case Done. \")\n",
    "\n",
    "    # remove non alphabetic characters\n",
    "    df_train.text = df_train.apply(lambda row: re.sub('[^A-Za-z]', ' ', row.text), axis=1)\n",
    "    df_test.text = df_test.apply(lambda row: re.sub('[^A-Za-z]', ' ', row.text), axis=1)\n",
    "    print(\"Non alphabetic characters Removed!\")\n",
    "\n",
    "    # tokenize\n",
    "    df_train.text = df_train.apply(lambda row: wt(row.text), axis=1)\n",
    "    df_test.text = df_test.apply(lambda row: wt(row.text), axis=1)\n",
    "    print(\"Tokenize Done.\")\n",
    "\n",
    "    # remove stop words and stemming\n",
    "    spell = Speller(lang='en')\n",
    "    # df_train.text = df_train.apply(lambda row: [spell(stemmer.stem(word)) for word in row.text if word not in set(stopwords.words('english'))], axis=1)\n",
    "    # df_test.text = df_test.apply(lambda row: [spell(stemmer.stem(word)) for word in row.text if word not in set(stopwords.words('english'))], axis=1)\n",
    "    df_train.text = df_train.apply(lambda row: [stemmer.stem(word) for word in row.text if word not in set(stopwords.words('english'))], axis=1)\n",
    "    df_test.text = df_test.apply(lambda row: [stemmer.stem(word) for word in row.text if word not in set(stopwords.words('english'))], axis=1)\n",
    "    print(\"stop words + stemming Done.\")\n",
    "\n",
    "    # join\n",
    "    df_train.text = df_train.apply(lambda row: \" \".join(row.text), axis=1)\n",
    "    df_test.text = df_test.apply(lambda row: \" \".join(row.text), axis=1)\n",
    "    print(\"join done!\")\n",
    "\n",
    "    # creating the feature matrix \n",
    "    matrix = CountVectorizer()\n",
    "    len_train = len(df_train.text)\n",
    "    X = matrix.fit_transform(df_train.text.to_list()+df_test.text.to_list()).toarray()\n",
    "    X_train = X[:len_train,:]\n",
    "    X_test = X[len_train:,:]\n",
    "    y_train = df_train.labels.to_list()\n",
    "    y_test = df_test.labels.to_list()\n",
    "\n",
    "    model = RandomForestClassifier(max_depth=12, random_state=0)\n",
    "    classifier = MultiOutputClassifier(model).fit(X_train, y_train)\n",
    "\n",
    "    y_pred = classifier.predict(X_test)\n",
    "    accuracy = accuracy_score(y_test, y_pred)\n",
    "    f1_micro = f1_score(y_test, y_pred,average='micro')\n",
    "    f1_macro = f1_score(y_test, y_pred,average='macro')\n",
    "    print(\"f1 micro\", f1_micro)\n",
    "    print(\"f1 macro\", f1_macro)\n",
    "    print(\"accuracy\", accuracy)"
   ]
  },
  {
   "cell_type": "code",
   "execution_count": 16,
   "metadata": {},
   "outputs": [
    {
     "output_type": "stream",
     "name": "stdout",
     "text": [
      "OpenI:\n",
      "Lower case Done. \n",
      "Non alphabetic characters Removed!\n",
      "Tokenize Done.\n",
      "stop words + stemming Done.\n",
      "join done!\n",
      "f1 micro 0.3810483870967742\n",
      "f1 macro 0.28665912431705076\n",
      "accuracy 0.4509493670886076\n"
     ]
    }
   ],
   "source": [
    "print(\"OpenI:\")\n",
    "df_train = pd.read_csv(\"../data/OpenI/openI_train.csv\") \n",
    "df_test = pd.read_csv(\"../data/OpenI/openI_test.csv\")\n",
    "\n",
    "bag_of_words(df_train, df_test)\n",
    "\n"
   ]
  },
  {
   "cell_type": "code",
   "execution_count": null,
   "metadata": {},
   "outputs": [],
   "source": [
    "print(\"ohsumed:\")\n",
    "\n",
    "df_train = pd.read_csv(\"../data/ohsumed/ohsumed_train.csv\") \n",
    "df_test = pd.read_csv(\"../data/ohsumed/ohsumed_test.csv\")\n",
    "\n",
    "bag_of_words(df_train, df_test)"
   ]
  },
  {
   "cell_type": "code",
   "execution_count": null,
   "metadata": {},
   "outputs": [],
   "source": [
    "print(\"reuters:\")\n",
    "\n",
    "df_train = pd.read_csv(\"../data/reuters/reuters_train.csv\") \n",
    "df_test = pd.read_csv(\"../data/reuters/reuters_test.csv\")\n",
    "\n",
    "bag_of_words(df_train, df_test)"
   ]
  },
  {
   "cell_type": "code",
   "execution_count": null,
   "metadata": {},
   "outputs": [],
   "source": [
    "print(\"twentynewsgroup:\")\n",
    "\n",
    "df_train = pd.read_csv(\"../data/twentynewsgroup/twentynewsgroup_train.csv\") \n",
    "df_test = pd.read_csv(\"../data/twentynewsgroup/twentynewsgroup_test.csv\")\n",
    "\n",
    "bag_of_words(df_train, df_test)"
   ]
  },
  {
   "cell_type": "code",
   "execution_count": null,
   "metadata": {},
   "outputs": [],
   "source": []
  }
 ]
}